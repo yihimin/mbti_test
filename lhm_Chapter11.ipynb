{
  "nbformat": 4,
  "nbformat_minor": 0,
  "metadata": {
    "colab": {
      "provenance": [],
      "authorship_tag": "ABX9TyOUU0jhvp8EJGS2KnN8qcBw",
      "include_colab_link": true
    },
    "kernelspec": {
      "name": "python3",
      "display_name": "Python 3"
    },
    "language_info": {
      "name": "python"
    }
  },
  "cells": [
    {
      "cell_type": "markdown",
      "metadata": {
        "id": "view-in-github",
        "colab_type": "text"
      },
      "source": [
        "<a href=\"https://colab.research.google.com/github/yihimin/mbti_test/blob/main/lhm_Chapter11.ipynb\" target=\"_parent\"><img src=\"https://colab.research.google.com/assets/colab-badge.svg\" alt=\"Open In Colab\"/></a>"
      ]
    },
    {
      "cell_type": "markdown",
      "source": [
        "[lhm 11-1]\n"
      ],
      "metadata": {
        "id": "fb3zOvlmzevA"
      }
    },
    {
      "cell_type": "code",
      "source": [
        "!sudo apt-get install -y fonts-nanum\n",
        "!sudo fc-cache -fv\n",
        "!rm ~/.cache/matplotlib -rf"
      ],
      "metadata": {
        "colab": {
          "base_uri": "https://localhost:8080/"
        },
        "id": "NN8B7Pvx9XX0",
        "outputId": "4b545da5-d6f5-4bba-a156-0d565c51452b"
      },
      "execution_count": null,
      "outputs": [
        {
          "output_type": "stream",
          "name": "stdout",
          "text": [
            "Reading package lists... Done\n",
            "Building dependency tree... Done\n",
            "Reading state information... Done\n",
            "The following NEW packages will be installed:\n",
            "  fonts-nanum\n",
            "0 upgraded, 1 newly installed, 0 to remove and 49 not upgraded.\n",
            "Need to get 10.3 MB of archives.\n",
            "After this operation, 34.1 MB of additional disk space will be used.\n",
            "Get:1 http://archive.ubuntu.com/ubuntu jammy/universe amd64 fonts-nanum all 20200506-1 [10.3 MB]\n",
            "Fetched 10.3 MB in 2s (5,655 kB/s)\n",
            "debconf: unable to initialize frontend: Dialog\n",
            "debconf: (No usable dialog-like program is installed, so the dialog based frontend cannot be used. at /usr/share/perl5/Debconf/FrontEnd/Dialog.pm line 78, <> line 1.)\n",
            "debconf: falling back to frontend: Readline\n",
            "debconf: unable to initialize frontend: Readline\n",
            "debconf: (This frontend requires a controlling tty.)\n",
            "debconf: falling back to frontend: Teletype\n",
            "dpkg-preconfigure: unable to re-open stdin: \n",
            "Selecting previously unselected package fonts-nanum.\n",
            "(Reading database ... 123629 files and directories currently installed.)\n",
            "Preparing to unpack .../fonts-nanum_20200506-1_all.deb ...\n",
            "Unpacking fonts-nanum (20200506-1) ...\n",
            "Setting up fonts-nanum (20200506-1) ...\n",
            "Processing triggers for fontconfig (2.13.1-4.2ubuntu5) ...\n",
            "/usr/share/fonts: caching, new cache contents: 0 fonts, 1 dirs\n",
            "/usr/share/fonts/truetype: caching, new cache contents: 0 fonts, 3 dirs\n",
            "/usr/share/fonts/truetype/humor-sans: caching, new cache contents: 1 fonts, 0 dirs\n",
            "/usr/share/fonts/truetype/liberation: caching, new cache contents: 16 fonts, 0 dirs\n",
            "/usr/share/fonts/truetype/nanum: caching, new cache contents: 12 fonts, 0 dirs\n",
            "/usr/local/share/fonts: caching, new cache contents: 0 fonts, 0 dirs\n",
            "/root/.local/share/fonts: skipping, no such directory\n",
            "/root/.fonts: skipping, no such directory\n",
            "/usr/share/fonts/truetype: skipping, looped directory detected\n",
            "/usr/share/fonts/truetype/humor-sans: skipping, looped directory detected\n",
            "/usr/share/fonts/truetype/liberation: skipping, looped directory detected\n",
            "/usr/share/fonts/truetype/nanum: skipping, looped directory detected\n",
            "/var/cache/fontconfig: cleaning cache directory\n",
            "/root/.cache/fontconfig: not cleaning non-existent cache directory\n",
            "/root/.fontconfig: not cleaning non-existent cache directory\n",
            "fc-cache: succeeded\n"
          ]
        }
      ]
    },
    {
      "cell_type": "markdown",
      "source": [
        "[lhm 11-2]"
      ],
      "metadata": {
        "id": "pEfRX8s30StM"
      }
    },
    {
      "cell_type": "code",
      "source": [
        "import numpy as np\n",
        "from sklearn.preprocessing import MinMaxScaler\n",
        "# 원본 데이터\n",
        "몸무게 = [30, 35, 40] # kg 단위\n",
        "팔길이 = [45, 50, 55] # cm 단위\n",
        "\n",
        "# 데이터를 2차원 배열로 변환 (정규화를 위해 몸무게, 팔길이가 각 열로 한 행이 됨.)\n",
        "데이터 = np.array([몸무게, 팔길이]).T\n",
        "\n",
        "# 정규화 적용\n",
        "scaler = MinMaxScaler()\n",
        "정규화_데이터 = scaler.fit_transform(데이터)\n",
        "print(\"=== 원본 데이터 ===\")\n",
        "print(데이터)\n",
        "print(\"\\n=== 정규화된 데이터 ===\")\n",
        "print(정규화_데이터)\n"
      ],
      "metadata": {
        "colab": {
          "base_uri": "https://localhost:8080/"
        },
        "id": "2XzykO2y9lDI",
        "outputId": "b323ec35-9952-4615-a841-bce66c8877e8"
      },
      "execution_count": null,
      "outputs": [
        {
          "output_type": "stream",
          "name": "stdout",
          "text": [
            "=== 원본 데이터 ===\n",
            "[[30 45]\n",
            " [35 50]\n",
            " [40 55]]\n",
            "\n",
            "=== 정규화된 데이터 ===\n",
            "[[0.  0. ]\n",
            " [0.5 0.5]\n",
            " [1.  1. ]]\n"
          ]
        }
      ]
    },
    {
      "cell_type": "markdown",
      "source": [
        "[lhm 11-3]"
      ],
      "metadata": {
        "id": "_hJplbSD0TlJ"
      }
    },
    {
      "cell_type": "code",
      "source": [
        "import numpy as np\n",
        "from sklearn.decomposition import PCA\n",
        "from sklearn.linear_model import LinearRegression\n",
        "\n",
        "# 원본 데이터\n",
        "키 = [155, 160, 165, 170, 175] # cm 단위\n",
        "신발 = [230, 240, 250, 260, 270] # mm 단위\n",
        "# 데이터 준비 (2차원 배열로 변환)\n",
        "원본_데이터 = np.array([키, 신발]).T\n",
        "# 원본 데이터 출력\n",
        "print(\"\\n=== 원본 데이터 ===\")\n",
        "print(\" 키 신발크기\")\n",
        "print(원본_데이터)"
      ],
      "metadata": {
        "colab": {
          "base_uri": "https://localhost:8080/"
        },
        "id": "UXHDxbGO9r2p",
        "outputId": "39032589-eb4e-456c-8536-7e2d8f052574"
      },
      "execution_count": null,
      "outputs": [
        {
          "output_type": "stream",
          "name": "stdout",
          "text": [
            "\n",
            "=== 원본 데이터 ===\n",
            " 키 신발크기\n",
            "[[155 230]\n",
            " [160 240]\n",
            " [165 250]\n",
            " [170 260]\n",
            " [175 270]]\n"
          ]
        }
      ]
    },
    {
      "cell_type": "markdown",
      "source": [
        "[lhm 11-4]"
      ],
      "metadata": {
        "id": "gaUjsAUO0USN"
      }
    },
    {
      "cell_type": "code",
      "source": [
        "# PCA 수행\n",
        "pca = PCA(n_components=2) #마법상자\n",
        "pca.fit(원본_데이터)\n",
        "변환된_데이터 = pca.transform(원본_데이터)\n",
        "# 변환된 데이터 출력 (소수점 둘째자리까지)\n",
        "print(\"\\n=== 변환된 데이터 ===\")\n",
        "print(\" 제1주성분 제2주성분\")\n",
        "# np.round를 사용해 소수점 둘째자리까지 반올림\n",
        "print(np.round(변환된_데이터, 2))"
      ],
      "metadata": {
        "colab": {
          "base_uri": "https://localhost:8080/"
        },
        "id": "BQ1yjH909uvX",
        "outputId": "de993168-30d9-457b-a192-1c68ca630bb9"
      },
      "execution_count": null,
      "outputs": [
        {
          "output_type": "stream",
          "name": "stdout",
          "text": [
            "\n",
            "=== 변환된 데이터 ===\n",
            " 제1주성분 제2주성분\n",
            "[[-22.36  -0.  ]\n",
            " [-11.18   0.  ]\n",
            " [  0.     0.  ]\n",
            " [ 11.18  -0.  ]\n",
            " [ 22.36  -0.  ]]\n"
          ]
        }
      ]
    },
    {
      "cell_type": "markdown",
      "source": [
        "[lhm 11-5]"
      ],
      "metadata": {
        "id": "_jisd4OO0VAh"
      }
    },
    {
      "cell_type": "code",
      "source": [
        "# (3) 설명력 구하기\n",
        "# 설명력 출력\n",
        "설명력 = pca.explained_variance_ratio_\n",
        "print(\"\\n=== PCA 설명력 ===\")\n",
        "print(f\"제1주성분의 설명력: {설명력[0]:.2%}\")\n",
        "print(f\"제2주성분의 설명력: {설명력[1]:.2%}\")"
      ],
      "metadata": {
        "colab": {
          "base_uri": "https://localhost:8080/"
        },
        "id": "bHaC6oTL9x6s",
        "outputId": "6fb2e361-4b7b-4978-a0ce-0a3b2920b44c"
      },
      "execution_count": null,
      "outputs": [
        {
          "output_type": "stream",
          "name": "stdout",
          "text": [
            "\n",
            "=== PCA 설명력 ===\n",
            "제1주성분의 설명력: 100.00%\n",
            "제2주성분의 설명력: 0.00%\n"
          ]
        }
      ]
    },
    {
      "cell_type": "markdown",
      "source": [
        "[lhm 11-6]"
      ],
      "metadata": {
        "id": "KHe-5KR10Vpp"
      }
    },
    {
      "cell_type": "code",
      "source": [
        "import numpy as np\n",
        "from sklearn.decomposition import PCA\n",
        "from sklearn.linear_model import LinearRegression\n",
        "# 원본 데이터\n",
        "나이 = [8, 9, 10, 11, 12] # 세 단위\n",
        "시청시간 = [3.0, 2.5, 2.0, 1.5, 1.0] # 시간 단위\n",
        "# 데이터 준비 (2차원 배열로 변환)\n",
        "원본_데이터 = np.array([나이, 시청시간]).T\n",
        "# 원본 데이터 출력\n",
        "print(\"\\n=== 원본 데이터 ===\")\n",
        "print(\" 나이 TV시청시간\")\n",
        "print(원본_데이터)"
      ],
      "metadata": {
        "colab": {
          "base_uri": "https://localhost:8080/"
        },
        "id": "4NUpfUyY91IE",
        "outputId": "f35546f3-89a0-4c20-8533-3df9710154bd"
      },
      "execution_count": null,
      "outputs": [
        {
          "output_type": "stream",
          "name": "stdout",
          "text": [
            "\n",
            "=== 원본 데이터 ===\n",
            " 나이 TV시청시간\n",
            "[[ 8.   3. ]\n",
            " [ 9.   2.5]\n",
            " [10.   2. ]\n",
            " [11.   1.5]\n",
            " [12.   1. ]]\n"
          ]
        }
      ]
    },
    {
      "cell_type": "markdown",
      "source": [
        "[lhm 11-7]"
      ],
      "metadata": {
        "id": "qSe04d3s0Y-s"
      }
    },
    {
      "cell_type": "code",
      "source": [
        "# PCA 수행\n",
        "pca = PCA(n_components=2) #마법상자\n",
        "pca.fit(원본_데이터)\n",
        "변환된_데이터 = pca.transform(원본_데이터)\n",
        "# 변환된 데이터 출력 (소수점 둘째자리까지)\n",
        "print(\"\\n=== 변환된 데이터 ===\")\n",
        "print(\" 제1주성분 제2주성분\")\n",
        "# np.round를 사용해 소수점 둘째자리까지 반올림\n",
        "print(np.round(변환된_데이터, 2))"
      ],
      "metadata": {
        "colab": {
          "base_uri": "https://localhost:8080/"
        },
        "id": "Y3xFYFfr92V_",
        "outputId": "0490d924-3f3a-460e-deca-6f520b60c571"
      },
      "execution_count": null,
      "outputs": [
        {
          "output_type": "stream",
          "name": "stdout",
          "text": [
            "\n",
            "=== 변환된 데이터 ===\n",
            " 제1주성분 제2주성분\n",
            "[[-2.24  0.  ]\n",
            " [-1.12  0.  ]\n",
            " [ 0.    0.  ]\n",
            " [ 1.12  0.  ]\n",
            " [ 2.24  0.  ]]\n"
          ]
        }
      ]
    },
    {
      "cell_type": "markdown",
      "source": [
        "[lhm 11-8]"
      ],
      "metadata": {
        "id": "emKMYIey0aPl"
      }
    },
    {
      "cell_type": "code",
      "source": [
        "# 설명력 출력\n",
        "설명력 = pca.explained_variance_ratio_\n",
        "print(\"\\n=== PCA 설명력 ===\")\n",
        "print(f\"제1주성분의 설명력: {설명력[0]:.2%}\")\n",
        "print(f\"제2주성분의 설명력: {설명력[1]:.2%}\")"
      ],
      "metadata": {
        "colab": {
          "base_uri": "https://localhost:8080/"
        },
        "id": "NBmbO6iv93mM",
        "outputId": "bb0662dd-e52c-4074-e3f8-b191cef97567"
      },
      "execution_count": null,
      "outputs": [
        {
          "output_type": "stream",
          "name": "stdout",
          "text": [
            "\n",
            "=== PCA 설명력 ===\n",
            "제1주성분의 설명력: 100.00%\n",
            "제2주성분의 설명력: 0.00%\n"
          ]
        }
      ]
    },
    {
      "cell_type": "markdown",
      "source": [
        "[lhm 11-9]"
      ],
      "metadata": {
        "id": "QIQlNzh50bJI"
      }
    },
    {
      "cell_type": "code",
      "source": [
        "import numpy as np\n",
        "from sklearn.decomposition import PCA\n",
        "from sklearn.linear_model import LinearRegression\n",
        "# 5명 학생의 성적 데이터\n",
        "수학 = [50, 65, 80, 90, 100] # 점수\n",
        "과학 = [45, 60, 75, 85, 95] # 점수\n",
        "영어 = [40, 55, 70, 80, 90] # 점수\n",
        "\n",
        "# 데이터 준비 (2차원 배열로 변환)\n",
        "원본_데이터 = np.array([수학, 과학, 영어]).T\n",
        "# 원본 데이터 출력\n",
        "print(\"\\n=== 원본 데이터 ===\")\n",
        "print(\" 수학 과학 영어\")\n",
        "print(원본_데이터)"
      ],
      "metadata": {
        "colab": {
          "base_uri": "https://localhost:8080/"
        },
        "id": "DIL_j0Dn96RZ",
        "outputId": "aef1be12-e0f5-4535-8a2d-364e14d0d0ec"
      },
      "execution_count": null,
      "outputs": [
        {
          "output_type": "stream",
          "name": "stdout",
          "text": [
            "\n",
            "=== 원본 데이터 ===\n",
            " 수학 과학 영어\n",
            "[[ 50  45  40]\n",
            " [ 65  60  55]\n",
            " [ 80  75  70]\n",
            " [ 90  85  80]\n",
            " [100  95  90]]\n"
          ]
        }
      ]
    },
    {
      "cell_type": "markdown",
      "source": [
        "[lhm 11-10]"
      ],
      "metadata": {
        "id": "t7_wXGXL0cEj"
      }
    },
    {
      "cell_type": "code",
      "source": [
        "# PCA 수행\n",
        "pca = PCA(n_components=3) #마법상자\n",
        "변환된_데이터 = pca.fit_transform(원본_데이터)\n",
        "\n",
        "# 변환된 데이터 출력 (소수점 둘째자리까지)\n",
        "print(\"\\n=== 변환된 데이터 ===\")\n",
        "print(\" 제1주성분 제2주성분 제3주성분\")\n",
        "# np.round를 사용해 소수점 둘째자리까지 반올림\n",
        "print(np.round(변환된_데이터, 2))"
      ],
      "metadata": {
        "colab": {
          "base_uri": "https://localhost:8080/"
        },
        "id": "WH8aNTaE97lB",
        "outputId": "748008b2-7b05-4cf1-bb09-471131d76752"
      },
      "execution_count": null,
      "outputs": [
        {
          "output_type": "stream",
          "name": "stdout",
          "text": [
            "\n",
            "=== 변환된 데이터 ===\n",
            " 제1주성분 제2주성분 제3주성분\n",
            "[[-46.77  -0.     0.  ]\n",
            " [-20.78   0.     0.  ]\n",
            " [  5.2   -0.     0.  ]\n",
            " [ 22.52   0.     0.  ]\n",
            " [ 39.84   0.     0.  ]]\n"
          ]
        }
      ]
    },
    {
      "cell_type": "markdown",
      "source": [
        "[lhm 11-11]"
      ],
      "metadata": {
        "id": "Rt8yUmf70c51"
      }
    },
    {
      "cell_type": "code",
      "source": [
        "# 설명력(설명된 분산 비율) 출력\n",
        "설명력 = pca.explained_variance_ratio_\n",
        "print(\"\\n=== PCA 설명력 ===\")\n",
        "print(f\"제1주성분의 설명력: {설명력[0]:.2%}\")\n",
        "print(f\"제2주성분의 설명력: {설명력[1]:.2%}\")\n",
        "print(f\"제3주성분의 설명력: {설명력[2]:.2%}\")"
      ],
      "metadata": {
        "colab": {
          "base_uri": "https://localhost:8080/"
        },
        "id": "PQRixMuk9-84",
        "outputId": "7ebd52e8-b33d-4030-f63d-461e2121e9ec"
      },
      "execution_count": null,
      "outputs": [
        {
          "output_type": "stream",
          "name": "stdout",
          "text": [
            "\n",
            "=== PCA 설명력 ===\n",
            "제1주성분의 설명력: 100.00%\n",
            "제2주성분의 설명력: 0.00%\n",
            "제3주성분의 설명력: 0.00%\n"
          ]
        }
      ]
    },
    {
      "cell_type": "markdown",
      "source": [
        "[lhm 11-12]"
      ],
      "metadata": {
        "id": "IifRydAq0dsv"
      }
    },
    {
      "cell_type": "code",
      "source": [
        "# PCA 결과를 사용하여 선형 회귀 분석\n",
        "# 제1주성분을 입력 변수 X, ‘영어’를 종속 변수 y로 설정\n",
        "X_pca = 변환된_데이터[:, 0].reshape(-1, 1) # 제1주성분을 사용\n",
        "y = np.array(영어)\n",
        "\n",
        "# 선형 회귀 모델 생성 및 학습\n",
        "linear_model = LinearRegression()\n",
        "linear_model.fit(X_pca, y)\n",
        "\n",
        "# 회귀 계수와 절편 출력\n",
        "기울기 = linear_model.coef_[0]\n",
        "절편 = linear_model.intercept_\n",
        "print(\"\\n=== PCA 기반 선형 회귀 분석 결과 ===\")\n",
        "print(f\"회귀식: 영어점수 = {기울기:.2f} * 제1주성분 + {절편:.2f}\")"
      ],
      "metadata": {
        "colab": {
          "base_uri": "https://localhost:8080/"
        },
        "id": "CBmLRLxE-CSy",
        "outputId": "e815f128-9ff5-49e7-c07a-617ef25d2686"
      },
      "execution_count": null,
      "outputs": [
        {
          "output_type": "stream",
          "name": "stdout",
          "text": [
            "\n",
            "=== PCA 기반 선형 회귀 분석 결과 ===\n",
            "회귀식: 영어점수 = 0.58 * 제1주성분 + 67.00\n"
          ]
        }
      ]
    },
    {
      "cell_type": "markdown",
      "source": [
        "[lhm 11-13]"
      ],
      "metadata": {
        "id": "-G7Fi87Z0ebk"
      }
    },
    {
      "cell_type": "code",
      "source": [
        "# 예측 예시: 새로운 제1주성분 값을 사용해 예측\n",
        "새로운_데이터 = np.array([[40,35,30]]) # 수학, 과학, 영어 점수\n",
        "새로운_데이터_pca = pca.transform(새로운_데이터)[:, 0] # 제1주성분으로 변환\n",
        "예측값 = linear_model.predict(새로운_데이터_pca.reshape(-1, 1))\n",
        "print(f\"\\n수학,과학40,35에 해당하는 제1주성분 값으로 예측한 영어점수: {예측값[0]:.2f}점\")"
      ],
      "metadata": {
        "colab": {
          "base_uri": "https://localhost:8080/"
        },
        "id": "CX4vYOLv-Pmb",
        "outputId": "6a8fedcf-20a8-4ddb-d25e-9e4755e9fe98"
      },
      "execution_count": null,
      "outputs": [
        {
          "output_type": "stream",
          "name": "stdout",
          "text": [
            "\n",
            "수학,과학40,35에 해당하는 제1주성분 값으로 예측한 영어점수: 30.00점\n"
          ]
        }
      ]
    },
    {
      "cell_type": "markdown",
      "source": [
        "[lhm 11-14]"
      ],
      "metadata": {
        "id": "SZa8p9J40fXO"
      }
    },
    {
      "cell_type": "code",
      "source": [
        "from google.colab import files\n",
        "# 파일 업로드 창을 띄우고, 선택된 파일을 업로드합니다.\n",
        "uploaded = files.upload()"
      ],
      "metadata": {
        "colab": {
          "base_uri": "https://localhost:8080/",
          "height": 77
        },
        "id": "WMmUoZWk-Wip",
        "outputId": "4555a74b-64aa-4924-f5fa-2043f46cae76"
      },
      "execution_count": null,
      "outputs": [
        {
          "output_type": "display_data",
          "data": {
            "text/plain": [
              "<IPython.core.display.HTML object>"
            ],
            "text/html": [
              "\n",
              "     <input type=\"file\" id=\"files-5740f885-f0a8-4fca-b948-28bbda7e0fa7\" name=\"files[]\" multiple disabled\n",
              "        style=\"border:none\" />\n",
              "     <output id=\"result-5740f885-f0a8-4fca-b948-28bbda7e0fa7\">\n",
              "      Upload widget is only available when the cell has been executed in the\n",
              "      current browser session. Please rerun this cell to enable.\n",
              "      </output>\n",
              "      <script>// Copyright 2017 Google LLC\n",
              "//\n",
              "// Licensed under the Apache License, Version 2.0 (the \"License\");\n",
              "// you may not use this file except in compliance with the License.\n",
              "// You may obtain a copy of the License at\n",
              "//\n",
              "//      http://www.apache.org/licenses/LICENSE-2.0\n",
              "//\n",
              "// Unless required by applicable law or agreed to in writing, software\n",
              "// distributed under the License is distributed on an \"AS IS\" BASIS,\n",
              "// WITHOUT WARRANTIES OR CONDITIONS OF ANY KIND, either express or implied.\n",
              "// See the License for the specific language governing permissions and\n",
              "// limitations under the License.\n",
              "\n",
              "/**\n",
              " * @fileoverview Helpers for google.colab Python module.\n",
              " */\n",
              "(function(scope) {\n",
              "function span(text, styleAttributes = {}) {\n",
              "  const element = document.createElement('span');\n",
              "  element.textContent = text;\n",
              "  for (const key of Object.keys(styleAttributes)) {\n",
              "    element.style[key] = styleAttributes[key];\n",
              "  }\n",
              "  return element;\n",
              "}\n",
              "\n",
              "// Max number of bytes which will be uploaded at a time.\n",
              "const MAX_PAYLOAD_SIZE = 100 * 1024;\n",
              "\n",
              "function _uploadFiles(inputId, outputId) {\n",
              "  const steps = uploadFilesStep(inputId, outputId);\n",
              "  const outputElement = document.getElementById(outputId);\n",
              "  // Cache steps on the outputElement to make it available for the next call\n",
              "  // to uploadFilesContinue from Python.\n",
              "  outputElement.steps = steps;\n",
              "\n",
              "  return _uploadFilesContinue(outputId);\n",
              "}\n",
              "\n",
              "// This is roughly an async generator (not supported in the browser yet),\n",
              "// where there are multiple asynchronous steps and the Python side is going\n",
              "// to poll for completion of each step.\n",
              "// This uses a Promise to block the python side on completion of each step,\n",
              "// then passes the result of the previous step as the input to the next step.\n",
              "function _uploadFilesContinue(outputId) {\n",
              "  const outputElement = document.getElementById(outputId);\n",
              "  const steps = outputElement.steps;\n",
              "\n",
              "  const next = steps.next(outputElement.lastPromiseValue);\n",
              "  return Promise.resolve(next.value.promise).then((value) => {\n",
              "    // Cache the last promise value to make it available to the next\n",
              "    // step of the generator.\n",
              "    outputElement.lastPromiseValue = value;\n",
              "    return next.value.response;\n",
              "  });\n",
              "}\n",
              "\n",
              "/**\n",
              " * Generator function which is called between each async step of the upload\n",
              " * process.\n",
              " * @param {string} inputId Element ID of the input file picker element.\n",
              " * @param {string} outputId Element ID of the output display.\n",
              " * @return {!Iterable<!Object>} Iterable of next steps.\n",
              " */\n",
              "function* uploadFilesStep(inputId, outputId) {\n",
              "  const inputElement = document.getElementById(inputId);\n",
              "  inputElement.disabled = false;\n",
              "\n",
              "  const outputElement = document.getElementById(outputId);\n",
              "  outputElement.innerHTML = '';\n",
              "\n",
              "  const pickedPromise = new Promise((resolve) => {\n",
              "    inputElement.addEventListener('change', (e) => {\n",
              "      resolve(e.target.files);\n",
              "    });\n",
              "  });\n",
              "\n",
              "  const cancel = document.createElement('button');\n",
              "  inputElement.parentElement.appendChild(cancel);\n",
              "  cancel.textContent = 'Cancel upload';\n",
              "  const cancelPromise = new Promise((resolve) => {\n",
              "    cancel.onclick = () => {\n",
              "      resolve(null);\n",
              "    };\n",
              "  });\n",
              "\n",
              "  // Wait for the user to pick the files.\n",
              "  const files = yield {\n",
              "    promise: Promise.race([pickedPromise, cancelPromise]),\n",
              "    response: {\n",
              "      action: 'starting',\n",
              "    }\n",
              "  };\n",
              "\n",
              "  cancel.remove();\n",
              "\n",
              "  // Disable the input element since further picks are not allowed.\n",
              "  inputElement.disabled = true;\n",
              "\n",
              "  if (!files) {\n",
              "    return {\n",
              "      response: {\n",
              "        action: 'complete',\n",
              "      }\n",
              "    };\n",
              "  }\n",
              "\n",
              "  for (const file of files) {\n",
              "    const li = document.createElement('li');\n",
              "    li.append(span(file.name, {fontWeight: 'bold'}));\n",
              "    li.append(span(\n",
              "        `(${file.type || 'n/a'}) - ${file.size} bytes, ` +\n",
              "        `last modified: ${\n",
              "            file.lastModifiedDate ? file.lastModifiedDate.toLocaleDateString() :\n",
              "                                    'n/a'} - `));\n",
              "    const percent = span('0% done');\n",
              "    li.appendChild(percent);\n",
              "\n",
              "    outputElement.appendChild(li);\n",
              "\n",
              "    const fileDataPromise = new Promise((resolve) => {\n",
              "      const reader = new FileReader();\n",
              "      reader.onload = (e) => {\n",
              "        resolve(e.target.result);\n",
              "      };\n",
              "      reader.readAsArrayBuffer(file);\n",
              "    });\n",
              "    // Wait for the data to be ready.\n",
              "    let fileData = yield {\n",
              "      promise: fileDataPromise,\n",
              "      response: {\n",
              "        action: 'continue',\n",
              "      }\n",
              "    };\n",
              "\n",
              "    // Use a chunked sending to avoid message size limits. See b/62115660.\n",
              "    let position = 0;\n",
              "    do {\n",
              "      const length = Math.min(fileData.byteLength - position, MAX_PAYLOAD_SIZE);\n",
              "      const chunk = new Uint8Array(fileData, position, length);\n",
              "      position += length;\n",
              "\n",
              "      const base64 = btoa(String.fromCharCode.apply(null, chunk));\n",
              "      yield {\n",
              "        response: {\n",
              "          action: 'append',\n",
              "          file: file.name,\n",
              "          data: base64,\n",
              "        },\n",
              "      };\n",
              "\n",
              "      let percentDone = fileData.byteLength === 0 ?\n",
              "          100 :\n",
              "          Math.round((position / fileData.byteLength) * 100);\n",
              "      percent.textContent = `${percentDone}% done`;\n",
              "\n",
              "    } while (position < fileData.byteLength);\n",
              "  }\n",
              "\n",
              "  // All done.\n",
              "  yield {\n",
              "    response: {\n",
              "      action: 'complete',\n",
              "    }\n",
              "  };\n",
              "}\n",
              "\n",
              "scope.google = scope.google || {};\n",
              "scope.google.colab = scope.google.colab || {};\n",
              "scope.google.colab._files = {\n",
              "  _uploadFiles,\n",
              "  _uploadFilesContinue,\n",
              "};\n",
              "})(self);\n",
              "</script> "
            ]
          },
          "metadata": {}
        },
        {
          "output_type": "stream",
          "name": "stdout",
          "text": [
            "Saving lhm_titanic_nomissing.csv to lhm_titanic_nomissing.csv\n"
          ]
        }
      ]
    },
    {
      "cell_type": "markdown",
      "source": [
        "[lhm 11-15]"
      ],
      "metadata": {
        "id": "V30PVFR50gF4"
      }
    },
    {
      "cell_type": "code",
      "source": [
        "import pandas as pd\n",
        "import numpy as np\n",
        "from sklearn.preprocessing import MinMaxScaler\n",
        "from sklearn.decomposition import PCA\n",
        "# 1. 데이터 준비\n",
        "df = pd.read_csv('lhm_titanic_nomissing.csv')\n",
        "numeric_features = df[['Age', 'Fare', 'SibSp', 'Parch']]\n",
        "\n",
        "# 2. 원본 데이터 출력\n",
        "print(\"=== 원본 데이터 ===\")\n",
        "print(numeric_features)"
      ],
      "metadata": {
        "colab": {
          "base_uri": "https://localhost:8080/"
        },
        "id": "rxuoywEJ-eov",
        "outputId": "552298bb-8a65-4731-c848-0e870d4977ae"
      },
      "execution_count": null,
      "outputs": [
        {
          "output_type": "stream",
          "name": "stdout",
          "text": [
            "=== 원본 데이터 ===\n",
            "           Age     Fare  SibSp  Parch\n",
            "0    22.000000   7.2500      1      0\n",
            "1    38.000000  71.2833      1      0\n",
            "2    26.000000   7.9250      0      0\n",
            "3    35.000000  53.1000      1      0\n",
            "4    35.000000   8.0500      0      0\n",
            "..         ...      ...    ...    ...\n",
            "884  27.000000  13.0000      0      0\n",
            "885  19.000000  30.0000      0      0\n",
            "886  29.699118  23.4500      1      2\n",
            "887  26.000000  30.0000      0      0\n",
            "888  32.000000   7.7500      0      0\n",
            "\n",
            "[889 rows x 4 columns]\n"
          ]
        }
      ]
    },
    {
      "cell_type": "markdown",
      "source": [
        "[lhm 11-16]"
      ],
      "metadata": {
        "id": "aVpJF_VG0g8f"
      }
    },
    {
      "cell_type": "code",
      "source": [
        "# 3. 정규화 적용\n",
        "scaler = MinMaxScaler()\n",
        "normalized_features = scaler.fit_transform(numeric_features)\n",
        "print(\"=== 정규화된 데이터 ===\")\n",
        "print(normalized_features)"
      ],
      "metadata": {
        "colab": {
          "base_uri": "https://localhost:8080/"
        },
        "id": "BXafacv_-jCl",
        "outputId": "b297e114-207f-4c19-d900-0be0553fbfd9"
      },
      "execution_count": null,
      "outputs": [
        {
          "output_type": "stream",
          "name": "stdout",
          "text": [
            "=== 정규화된 데이터 ===\n",
            "[[0.27117366 0.01415106 0.125      0.        ]\n",
            " [0.4722292  0.13913574 0.125      0.        ]\n",
            " [0.32143755 0.01546857 0.         0.        ]\n",
            " ...\n",
            " [0.36792055 0.04577135 0.125      0.33333333]\n",
            " [0.32143755 0.0585561  0.         0.        ]\n",
            " [0.39683338 0.01512699 0.         0.        ]]\n"
          ]
        }
      ]
    },
    {
      "cell_type": "markdown",
      "source": [
        "[lhm 11-17]"
      ],
      "metadata": {
        "id": "-9rkPMjV0hl8"
      }
    },
    {
      "cell_type": "code",
      "source": [
        "# 4. PCA 적용\n",
        "pca = PCA()\n",
        "pca_features = pca.fit_transform(normalized_features)\n",
        "\n",
        "# 5. 변환된 데이터 출력\n",
        "print(\"\\n=== 변환된 데이터 (4차원) ===\")\n",
        "print(\"1주성분 2주성분 3주성분 4주성분\")\n",
        "print(np.round(pca_features,4))"
      ],
      "metadata": {
        "colab": {
          "base_uri": "https://localhost:8080/"
        },
        "id": "Z3M9cJEI-kf9",
        "outputId": "354fbb69-668b-4896-b959-b072eb664d27"
      },
      "execution_count": null,
      "outputs": [
        {
          "output_type": "stream",
          "name": "stdout",
          "text": [
            "\n",
            "=== 변환된 데이터 (4차원) ===\n",
            "1주성분 2주성분 3주성분 4주성분\n",
            "[[-0.0661 -0.0863  0.0843 -0.0165]\n",
            " [ 0.0672  0.0884  0.0837  0.0716]\n",
            " [ 0.0355 -0.1057 -0.002  -0.0158]\n",
            " ...\n",
            " [-0.1568  0.1564 -0.1346 -0.0966]\n",
            " [ 0.0328 -0.0934 -0.0083  0.0249]\n",
            " [ 0.0885 -0.0537  0.0047 -0.0273]]\n"
          ]
        }
      ]
    },
    {
      "cell_type": "markdown",
      "source": [
        "[lhm 11-18]"
      ],
      "metadata": {
        "id": "n8jMl9-Z0iOw"
      }
    },
    {
      "cell_type": "code",
      "source": [
        "# 4. 설명력 출력\n",
        "설명력 = pca.explained_variance_ratio_\n",
        "print(\"\\n=== PCA 설명력 ===\")\n",
        "print(f\"제1주성분의 설명력: {설명력[0]:.2%}\")\n",
        "print(f\"제2주성분의 설명력: {설명력[1]:.2%}\")\n",
        "print(f\"제3주성분의 설명력: {설명력[2]:.2%}\")\n",
        "print(f\"제4주성분의 설명력: {설명력[3]:.2%}\")"
      ],
      "metadata": {
        "colab": {
          "base_uri": "https://localhost:8080/"
        },
        "id": "ghvxOiUs-mWh",
        "outputId": "13a64ecc-b1d5-463f-d3b3-090ae6c5c6c4"
      },
      "execution_count": null,
      "outputs": [
        {
          "output_type": "stream",
          "name": "stdout",
          "text": [
            "\n",
            "=== PCA 설명력 ===\n",
            "제1주성분의 설명력: 45.14%\n",
            "제2주성분의 설명력: 28.76%\n",
            "제3주성분의 설명력: 14.88%\n",
            "제4주성분의 설명력: 11.22%\n"
          ]
        }
      ]
    },
    {
      "cell_type": "markdown",
      "source": [
        "[lhm 11-19]"
      ],
      "metadata": {
        "id": "Tyf2SNv80jD7"
      }
    },
    {
      "cell_type": "code",
      "source": [
        "import numpy as np\n",
        "from sklearn.preprocessing import MinMaxScaler\n",
        "from sklearn.decomposition import PCA\n",
        "import matplotlib.pyplot as plt\n",
        "# 신체 측정 데이터\n",
        "키 = [150, 155, 160, 165, 170] # cm 단위\n",
        "몸무게 = [40, 48, 55, 63, 70] # kg 단위\n",
        "발크기 = [220, 230, 240, 250, 260] # mm 단위\n",
        "# 데이터 준비\n",
        "원본_데이터 = np.array([키, 몸무게, 발크기]).T\n",
        "# 원본 데이터 출력\n",
        "print(\"=== 원본 데이터 ===\")\n",
        "print(\" 키 몸무게 발크기\")\n",
        "print(원본_데이터)"
      ],
      "metadata": {
        "colab": {
          "base_uri": "https://localhost:8080/"
        },
        "id": "OamlqIpW-ocP",
        "outputId": "0339c829-a907-4cd6-9acc-48a5f0595087"
      },
      "execution_count": null,
      "outputs": [
        {
          "output_type": "stream",
          "name": "stdout",
          "text": [
            "=== 원본 데이터 ===\n",
            " 키 몸무게 발크기\n",
            "[[150  40 220]\n",
            " [155  48 230]\n",
            " [160  55 240]\n",
            " [165  63 250]\n",
            " [170  70 260]]\n"
          ]
        }
      ]
    },
    {
      "cell_type": "markdown",
      "source": [
        "[lhm 11-20]"
      ],
      "metadata": {
        "id": "1Axsh0jE0jqs"
      }
    },
    {
      "cell_type": "code",
      "source": [
        "# 3. 정규화 적용\n",
        "scaler = MinMaxScaler()\n",
        "normalized_features = scaler.fit_transform(원본_데이터)\n",
        "print(\"=== 정규화된 데이터 ===\")\n",
        "print(normalized_features)"
      ],
      "metadata": {
        "colab": {
          "base_uri": "https://localhost:8080/"
        },
        "id": "EqLZe12i-rUz",
        "outputId": "00a14fe7-da69-4665-d79b-cfaa79235296"
      },
      "execution_count": null,
      "outputs": [
        {
          "output_type": "stream",
          "name": "stdout",
          "text": [
            "=== 정규화된 데이터 ===\n",
            "[[0.         0.         0.        ]\n",
            " [0.25       0.26666667 0.25      ]\n",
            " [0.5        0.5        0.5       ]\n",
            " [0.75       0.76666667 0.75      ]\n",
            " [1.         1.         1.        ]]\n"
          ]
        }
      ]
    },
    {
      "cell_type": "markdown",
      "source": [
        "[lhm 11-21]"
      ],
      "metadata": {
        "id": "rI_5h9o00lc7"
      }
    },
    {
      "cell_type": "code",
      "source": [
        "# PCA 수행 (2차원으로 축소)\n",
        "pca =PCA()\n",
        "변환된_데이터 = pca.fit_transform(normalized_features)\n",
        "# 변환된 데이터 출력\n",
        "print(\"\\n=== 변환된 데이터 (2차원) ===\")\n",
        "print(\" 제1주성분 제2주성분\")\n",
        "print(np.round(변환된_데이터, 2))"
      ],
      "metadata": {
        "id": "v4pMvaoK-ufB",
        "colab": {
          "base_uri": "https://localhost:8080/"
        },
        "outputId": "e4a4561d-571e-44cd-ffb7-d22835023906"
      },
      "execution_count": null,
      "outputs": [
        {
          "output_type": "stream",
          "name": "stdout",
          "text": [
            "\n",
            "=== 변환된 데이터 (2차원) ===\n",
            " 제1주성분 제2주성분\n",
            "[[-0.87 -0.01 -0.  ]\n",
            " [-0.43  0.01  0.  ]\n",
            " [-0.   -0.01  0.  ]\n",
            " [ 0.44  0.01 -0.  ]\n",
            " [ 0.86 -0.01 -0.  ]]\n"
          ]
        }
      ]
    },
    {
      "cell_type": "markdown",
      "source": [
        "[lhm 11-22]"
      ],
      "metadata": {
        "id": "LqArDq7Z0m_v"
      }
    },
    {
      "cell_type": "code",
      "source": [
        "# 설명력 출력\n",
        "설명력 = pca.explained_variance_ratio_\n",
        "print(\"\\n=== PCA 설명력 ===\")\n",
        "print(f\"제1주성분의 설명력: {설명력[0]:.2%}\")\n",
        "print(f\"제2주성분의 설명력: {설명력[1]:.2%}\")"
      ],
      "metadata": {
        "id": "BfQqNZJj-vmq",
        "colab": {
          "base_uri": "https://localhost:8080/"
        },
        "outputId": "42e09725-bbfa-4011-a965-f5c9e6f76f7f"
      },
      "execution_count": null,
      "outputs": [
        {
          "output_type": "stream",
          "name": "stdout",
          "text": [
            "\n",
            "=== PCA 설명력 ===\n",
            "제1주성분의 설명력: 99.99%\n",
            "제2주성분의 설명력: 0.01%\n"
          ]
        }
      ]
    }
  ]
}