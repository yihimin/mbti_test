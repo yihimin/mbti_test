{
  "nbformat": 4,
  "nbformat_minor": 0,
  "metadata": {
    "colab": {
      "provenance": [],
      "authorship_tag": "ABX9TyNz/l5lZv6EIaFs4sEEMPOz",
      "include_colab_link": true
    },
    "kernelspec": {
      "name": "python3",
      "display_name": "Python 3"
    },
    "language_info": {
      "name": "python"
    }
  },
  "cells": [
    {
      "cell_type": "markdown",
      "metadata": {
        "id": "view-in-github",
        "colab_type": "text"
      },
      "source": [
        "<a href=\"https://colab.research.google.com/github/yihimin/mbti_test/blob/main/lhm_chapter5.ipynb\" target=\"_parent\"><img src=\"https://colab.research.google.com/assets/colab-badge.svg\" alt=\"Open In Colab\"/></a>"
      ]
    },
    {
      "cell_type": "markdown",
      "source": [
        "## 이희민 5-1"
      ],
      "metadata": {
        "id": "DJqNrKsd4IdV"
      }
    },
    {
      "cell_type": "code",
      "source": [
        "import time\n",
        "import datetime\n",
        "\n",
        "count = 10\n",
        "while count > 0:\n",
        "  count -= 1\n",
        "  now = datetime.datetime.now()\n",
        "  yymmdd = now.strftime('%Y-%m-%d')\n",
        "  hhmmss = now.strftime('%H:%M:%S')\n",
        "  time_list=[yymmdd, hhmmss]\n",
        "  print(time_list)\n",
        "\n",
        "  time.sleep(3)"
      ],
      "metadata": {
        "colab": {
          "base_uri": "https://localhost:8080/"
        },
        "id": "Rp1De7uq5cDE",
        "outputId": "1a04c341-dbca-4018-d9ca-55ed7b85376f"
      },
      "execution_count": null,
      "outputs": [
        {
          "output_type": "stream",
          "name": "stdout",
          "text": [
            "['2024-09-30', '06:29:21']\n",
            "['2024-09-30', '06:29:24']\n",
            "['2024-09-30', '06:29:27']\n",
            "['2024-09-30', '06:29:30']\n",
            "['2024-09-30', '06:29:33']\n",
            "['2024-09-30', '06:29:36']\n",
            "['2024-09-30', '06:29:39']\n",
            "['2024-09-30', '06:29:42']\n",
            "['2024-09-30', '06:29:45']\n",
            "['2024-09-30', '06:29:48']\n"
          ]
        }
      ]
    },
    {
      "cell_type": "markdown",
      "source": [
        "## 이희민 5-2"
      ],
      "metadata": {
        "id": "zzi0u5Fv6c9U"
      }
    },
    {
      "cell_type": "code",
      "source": [
        "import csv\n",
        "import time\n",
        "import datetime\n",
        "\n",
        "#csv 파일을 utf-8 인코딩으로 저장\n",
        "csvName = 'lhm_datetime.csv'\n",
        "f=open(csvName,'w',newline='', encoding='utf-8-sig')\n",
        "csvWriter = csv.writer(f)\n",
        "csvWriter.writerow(['연월일','시분초'])\n",
        "count = 10\n",
        "\n",
        "while count > 0:\n",
        "  count -= 1\n",
        "  now = datetime.datetime.now()\n",
        "  yymmdd = now.strftime('%Y-%m-%d')\n",
        "  hhmmss = now.strftime('%H:%M:%S')\n",
        "  time_list=[yymmdd, hhmmss]\n",
        "\n",
        "  #csv 파일에 계속 추가하기\n",
        "f=open(csvName, 'a', newline='', encoding='utf-8-sig')\n",
        "csvWriter=csv.writer(f)\n",
        "csvWriter.writerow(time_list)\n",
        "time.sleep(3)"
      ],
      "metadata": {
        "id": "1m6UoC6m6u60"
      },
      "execution_count": null,
      "outputs": []
    },
    {
      "cell_type": "markdown",
      "source": [
        "## 이희민 5-3"
      ],
      "metadata": {
        "id": "76L6O6sS8HoE"
      }
    },
    {
      "cell_type": "code",
      "source": [
        "import time\n",
        "import datetime\n",
        "import bs4\n",
        "import urllib.request\n",
        "\n",
        "# 속초 날씨 정보를 가져오는 URL\n",
        "nateUrl = \"https://news.nate.com/weather?areaCode=11D20401\"\n",
        "\n",
        "count = 5  # 5번 반복\n",
        "\n",
        "while count > 0:\n",
        "    count -= 1  # 반복 횟수 감소\n",
        "\n",
        "    # 웹 페이지 요청 및 HTML 데이터를 읽어오기\n",
        "    htmlObject = urllib.request.urlopen(nateUrl)\n",
        "    webPage = htmlObject.read()\n",
        "\n",
        "    # BeautifulSoup을 사용하여 HTML 파싱\n",
        "    bsObject = bs4.BeautifulSoup(webPage, 'html.parser')\n",
        "\n",
        "    # 날씨 정보를 포함한 <div> 태그 찾기\n",
        "    tag = bsObject.find('div', {'class': 'right_today'})\n",
        "    temper = tag.find('p', {'class': 'celsius'}).text  # 온도 추출\n",
        "    humi = tag.find('p', {'class': 'humidity'}).text  # 습도 추출\n",
        "\n",
        "    # 현재 날짜와 시간 가져오기\n",
        "    now = datetime.datetime.now()\n",
        "    yymmdd = now.strftime('%Y-%m-%d')  # '년-월-일' 형식\n",
        "    hhmmss = now.strftime('%H:%M:%S')  # '시:분:초' 형식\n",
        "\n",
        "    # 날짜, 시간, 온도, 습도를 리스트로 저장\n",
        "    weather_list = [yymmdd, hhmmss, temper, humi]\n",
        "\n",
        "    # 결과 출력\n",
        "    print(weather_list)\n",
        "\n",
        "    # 5초 동안 대기 후 반복\n",
        "    time.sleep(5)\n"
      ],
      "metadata": {
        "colab": {
          "base_uri": "https://localhost:8080/"
        },
        "id": "T2AtnCFS8PV8",
        "outputId": "87ab291d-a7b3-48f2-8997-71e60c1fd8ff"
      },
      "execution_count": null,
      "outputs": [
        {
          "output_type": "stream",
          "name": "stdout",
          "text": [
            "['2024-09-30', '06:29:55', '25℃', '습도63%']\n",
            "['2024-09-30', '06:30:01', '26℃', '습도58%']\n",
            "['2024-09-30', '06:30:07', '26℃', '습도58%']\n",
            "['2024-09-30', '06:30:13', '26℃', '습도58%']\n",
            "['2024-09-30', '06:30:19', '26℃', '습도58%']\n"
          ]
        }
      ]
    },
    {
      "cell_type": "markdown",
      "source": [
        "## 이희민 5-4"
      ],
      "metadata": {
        "id": "SShPc7ui-Ae-"
      }
    },
    {
      "cell_type": "code",
      "source": [
        "import csv\n",
        "import time\n",
        "import datetime\n",
        "import bs4\n",
        "import urllib.request\n",
        "\n",
        "csvName = 'lhm_sokcho_weather1.csv'\n",
        "nateUrl = \"https://news.nate.com/weather?areaCode=11D20401\"\n",
        "\n",
        "count = 5\n",
        "\n",
        "while count > 0:\n",
        "    count -= 1\n",
        "\n",
        "    # 웹 페이지 요청 및 HTML 데이터를 읽어오기\n",
        "    htmlObject = urllib.request.urlopen(nateUrl)\n",
        "    webPage = htmlObject.read()\n",
        "    # BeautifulSoup을 사용하여 HTML 파싱\n",
        "    bsObject = bs4.BeautifulSoup(webPage, 'html.parser')\n",
        "\n",
        "    # 날씨 정보를 포함한 <div> 태그 찾기\n",
        "    tag = bsObject.find('div', {'class': 'right_today'})\n",
        "    temper = tag.find('p', {'class': 'celsius'}).text  # 온도 추출\n",
        "    humi = tag.find('p', {'class': 'humidity'}).text  # 습도 추출\n",
        "\n",
        "    # 현재 날짜와 시간 가져오기\n",
        "    now = datetime.datetime.now()\n",
        "    yymmdd = now.strftime('%Y-%m-%d')  # '년-월-일' 형식\n",
        "    hhmmss = now.strftime('%H:%M:%S')  # '시:분:초' 형식\n",
        "\n",
        "    # 날짜, 시간, 온도, 습도를 리스트로 저장\n",
        "    weather_list = [yymmdd, hhmmss, temper, humi]\n",
        "\n",
        "    f= open(csvName, 'a', newline='', encoding='utf-8-sig')\n",
        "    csvWriter = csv.writer(f)\n",
        "    csvWriter.writerow(weather_list)\n",
        "    time.sleep(5)"
      ],
      "metadata": {
        "id": "-YFvg8TV-BRc"
      },
      "execution_count": null,
      "outputs": []
    },
    {
      "cell_type": "markdown",
      "source": [
        "## 이희민 5-5"
      ],
      "metadata": {
        "id": "Y4TGWKuuAlkn"
      }
    },
    {
      "cell_type": "code",
      "source": [
        "import bs4\n",
        "import urllib.request\n",
        "\n",
        "def lhm_getBookInfo(book_tag) :\n",
        "  names=book_tag.find(\"div\", {\"class\":\"goods_name\"})\n",
        "  bookName=names.find(\"a\").text\n",
        "  auths=book_tag.find(\"span\",{\"class\":\"goods_auth\"})\n",
        "  bookAuth = auths.find(\"a\").text\n",
        "  return [bookName, bookAuth]\n",
        "\n",
        "bookUrl = \"https://www.yes24.com/24/Category/Display/001001046001?ParamSortTp=05&PageNumber=1\"\n",
        "\n",
        "htmlObject = urllib.request.urlopen(bookUrl)\n",
        "webPage=htmlObject.read()\n",
        "bsObject= bs4.BeautifulSoup(webPage,'html.parser')\n",
        "tag=bsObject.find('ul', {'class':'clearfix'})\n",
        "all_books=tag.findAll('div',{'class':'goods_info'})\n",
        "\n",
        "for book in all_books:\n",
        "  print(lhm_getBookInfo(book))"
      ],
      "metadata": {
        "colab": {
          "base_uri": "https://localhost:8080/"
        },
        "id": "q9npFGQwAnul",
        "outputId": "757df1ab-400d-4737-a0b1-4ca2cba5a489"
      },
      "execution_count": null,
      "outputs": [
        {
          "output_type": "stream",
          "name": "stdout",
          "text": [
            "['언젠가 우리가 같은 별을 바라본다면', '차인표']\n",
            "['모순', '양귀자']\n",
            "['영원한 천국 ', '정유정']\n",
            "['이중 하나는 거짓말', '김애란']\n",
            "['구의 증명', '최진영']\n",
            "['불편한 편의점', '김호연']\n",
            "['황금종이 1', '조정래']\n",
            "['황금종이 2', '조정래']\n",
            "['작별하지 않는다', '한강']\n",
            "['나의 돈키호테', '김호연']\n",
            "['불편한 편의점 2', '김호연']\n",
            "['아주 희미한 빛으로도', '최은영']\n",
            "['홍학의 자리', '정해연']\n",
            "['파견자들', '김초엽']\n",
            "['빛이 이끄는 곳으로', '백희성']\n",
            "['메리골드 마음 세탁소', '윤정은']\n",
            "['아버지의 해방일지', '정지아']\n",
            "['시한부', '백은별']\n",
            "['회색 인간', '김동식']\n",
            "['소년이 온다', '한강']\n"
          ]
        }
      ]
    },
    {
      "cell_type": "markdown",
      "source": [
        "## 이희민 5-6"
      ],
      "metadata": {
        "id": "RjMAXhfLDcr7"
      }
    },
    {
      "cell_type": "code",
      "source": [
        "import bs4  # BeautifulSoup 모듈\n",
        "import urllib.request  # URL 요청 모듈\n",
        "import csv  # CSV 파일에 데이터를 저장하기 위한 모듈\n",
        "\n",
        "def lhm_getBookInfo(book_tag) :\n",
        "  names=book_tag.find(\"div\", {\"class\":\"goods_name\"})\n",
        "  bookName=names.find(\"a\").text\n",
        "  auths=book_tag.find(\"span\",{\"class\":\"goods_auth\"})\n",
        "  bookAuth = auths.find(\"a\").text\n",
        "  return [bookName, bookAuth]\n",
        "\n",
        "#전역변수 부분\n",
        "csvName='lhm_book1.csv'\n",
        "bookUrl = \"https://www.yes24.com/24/Category/Display/001001046001?ParamSortTp=05&PageNumber=1\"\n",
        "\n",
        "htmlObject = urllib.request.urlopen(bookUrl)\n",
        "webPage=htmlObject.read()\n",
        "bsObject= bs4.BeautifulSoup(webPage,'html.parser')\n",
        "tag=bsObject.find('ul', {'class':'clearfix'})\n",
        "all_books=tag.findAll('div',{'class':'goods_info'})\n",
        "\n",
        "f =open(csvName, 'a', newline='', encoding='utf-8-sig')\n",
        "csvWriter = csv.writer(f)\n",
        "for book in all_books:\n",
        "  csvWriter.writerow(lhm_getBookInfo(book))"
      ],
      "metadata": {
        "id": "gL1sj9ipEOKE"
      },
      "execution_count": null,
      "outputs": []
    },
    {
      "cell_type": "markdown",
      "source": [
        "## 이희민 5-7"
      ],
      "metadata": {
        "id": "VfI6pCRuEN8k"
      }
    },
    {
      "cell_type": "code",
      "source": [
        "import bs4\n",
        "import urllib.request\n",
        "\n",
        "#함수 선언 부분\n",
        "def lhm_getMovieInfo(movie_tag):\n",
        "  no = movie_tag.find('div',{'class':'box-image'})\n",
        "  movieNo=no.find('strong').text\n",
        "  mName = movie_tag.find('div',{'class':'box-contents'})\n",
        "  movieName=mName.find('a').text\n",
        "  return [movieNo,movieName]\n",
        "\n",
        "#전역변수 부분\n",
        "movieUrl = \"http://www.cgv.co.kr/movies/?lt=1&ft=0\"\n",
        "\n",
        "htmlObject = urllib.request.urlopen(movieUrl)\n",
        "webPage=htmlObject.read()\n",
        "bsObject=bs4.BeautifulSoup(webPage, 'html.parser')\n",
        "tag=bsObject.find('div',{'class':'sect-movie-chart'})\n",
        "all_movies=tag.findAll('li')\n",
        "for movie in all_movies:\n",
        "  print(lhm_getMovieInfo(movie))"
      ],
      "metadata": {
        "colab": {
          "base_uri": "https://localhost:8080/"
        },
        "id": "1U0sYIb0EQIj",
        "outputId": "95859188-dc4d-44a1-c3be-556bde72a907"
      },
      "execution_count": null,
      "outputs": [
        {
          "output_type": "stream",
          "name": "stdout",
          "text": [
            "['No.1', '\\n조커-폴리 아 되\\n']\n",
            "['No.2', '\\n대도시의 사랑법\\n']\n",
            "['No.3', '\\n베테랑2\\n']\n",
            "['No.4', '\\n6시간 후 너는 죽는다\\n']\n",
            "['No.5', '\\n임영웅ㅣ아임 히어로 더 스타디움\\n']\n",
            "['No.6', '\\n와일드 로봇\\n']\n",
            "['No.7', '\\n트랜스포머 ONE\\n']\n",
            "['No.8', '\\n브레드이발소-빵스타의 탄생\\n']\n",
            "['No.9', '\\n타인의 삶\\n']\n",
            "['No.10', '\\n명탐정 코난-시한장치의 마천루\\n']\n",
            "['No.11', '\\n비긴 어게인\\n']\n",
            "['No.12', '\\n더 커버넌트\\n']\n",
            "['No.13', '\\n정국: 아이 엠 스틸\\n']\n",
            "['No.14', '\\n러브 라이브! 더 스쿨 아이돌 무비\\n']\n",
            "['No.15', '\\n극장총집편 봇치 더 록! 후편\\n']\n",
            "['No.16', '\\n재즈처럼 더 무비\\n']\n",
            "['No.17', '\\n극장판 블루 록 -에피소드 나기-\\n']\n",
            "['No.18', '\\n사랑의 하츄핑\\n']\n",
            "['No.19', '\\n태용: 티와이 트랙 인 시네마\\n']\n"
          ]
        }
      ]
    },
    {
      "cell_type": "markdown",
      "source": [
        "## 이희민 5-8"
      ],
      "metadata": {
        "id": "nZ6milX-H15j"
      }
    },
    {
      "cell_type": "code",
      "source": [
        "import bs4\n",
        "import urllib.request\n",
        "import csv\n",
        "\n",
        "#함수 선언 부분\n",
        "def lhm_getMovieInfo(movie_tag):\n",
        "  no = movie_tag.find('div',{'class':'box-image'})\n",
        "  movieNo=no.find('strong').text\n",
        "  mName = movie_tag.find('div',{'class':'box-contents'})\n",
        "  movieName=mName.find('a').text\n",
        "  return [movieNo,movieName]\n",
        "\n",
        "#전역변수 부분\n",
        "csvName = 'lhm_movie1.csv'\n",
        "movieUrl = \"http://www.cgv.co.kr/movies/?lt=1&ft=0\"\n",
        "\n",
        "htmlObject = urllib.request.urlopen(movieUrl)\n",
        "webPage=htmlObject.read()\n",
        "bsObject=bs4.BeautifulSoup(webPage, 'html.parser')\n",
        "tag=bsObject.find('div',{'class':'sect-movie-chart'})\n",
        "all_movies=tag.findAll('li')\n",
        "\n",
        "f= open(csvName, 'a', newline='', encoding='utf-8-sig')\n",
        "csvWriter = csv.writer(f)\n",
        "for movie in all_movies :\n",
        "  csvWriter.writerow(lhm_getMovieInfo(movie))"
      ],
      "metadata": {
        "id": "GI83BWDQH_qy"
      },
      "execution_count": null,
      "outputs": []
    },
    {
      "cell_type": "markdown",
      "source": [
        "## 이희민 5-9 응용"
      ],
      "metadata": {
        "id": "vc-Ross1ImbQ"
      }
    },
    {
      "cell_type": "code",
      "source": [
        "import time\n",
        "import datetime\n",
        "\n",
        "count = 3\n",
        "yymmdd_start = now.strftime('%H:%M:%S')\n",
        "while count > 0:\n",
        "  count -= 1\n",
        "  now = datetime.datetime.now()\n",
        "  yymmdd = now.strftime('%Y-%m-%d')\n",
        "  hhmmss = now.strftime('%H:%M:%S')\n",
        "  time_list=[yymmdd, hhmmss]\n",
        "  print(time_list)\n",
        "\n",
        "  time.sleep(6)"
      ],
      "metadata": {
        "colab": {
          "base_uri": "https://localhost:8080/"
        },
        "id": "Za3e8YmFIoXz",
        "outputId": "a6714143-c783-4ed0-f5c1-a881e0f901e4"
      },
      "execution_count": null,
      "outputs": [
        {
          "output_type": "stream",
          "name": "stdout",
          "text": [
            "['2024-09-30', '06:31:09']\n",
            "['2024-09-30', '06:31:15']\n",
            "['2024-09-30', '06:31:21']\n"
          ]
        }
      ]
    },
    {
      "cell_type": "markdown",
      "source": [
        "## 이희민 5-10 응용"
      ],
      "metadata": {
        "id": "gffSKmpKJRzK"
      }
    },
    {
      "cell_type": "code",
      "source": [
        "import time\n",
        "import datetime\n",
        "import bs4\n",
        "import urllib.request\n",
        "\n",
        "nateUrl = \"https://news.nate.com/weather?areaCode=11D20401\"\n",
        "count = 5\n",
        "while count > 0 :\n",
        "  count -= 1\n",
        "  htmlObject = urllib.request.urlopen(nateUrl)\n",
        "  webPage = htmlObject.read()\n",
        "  bsObject = bs4.BeautifulSoup(webPage, 'html.parser')\n",
        "\n",
        "  tag = bsObject.find('div', {'class': 'right_today'})\n",
        "  rain = tag.find('p', {'class': 'rainfall'}).text\n",
        "  wind = tag.find('p', {'class': 'wind'}).text\n",
        "  now = datetime.datetime.now()\n",
        "  yymmdd = now.strftime('%Y-%m-%d')\n",
        "  hhmmss = now.strftime('%H:%M:%S')\n",
        "  weather_list = [yymmdd, hhmmss, rain, wind]\n",
        "  print(weather_list)\n",
        "  time.sleep(8)"
      ],
      "metadata": {
        "colab": {
          "base_uri": "https://localhost:8080/"
        },
        "id": "xvXNvIDjJU4-",
        "outputId": "9e03a7d5-29af-4df0-9531-238889e78fda"
      },
      "execution_count": null,
      "outputs": [
        {
          "output_type": "stream",
          "name": "stdout",
          "text": [
            "['2024-09-30', '06:31:28', '강수량0mm', '풍향 남동 4.8 m/s']\n",
            "['2024-09-30', '06:31:37', '강수량0mm', '풍향 남동 4.8 m/s']\n",
            "['2024-09-30', '06:31:46', '강수량0mm', '풍향 남동 4.8 m/s']\n",
            "['2024-09-30', '06:31:55', '강수량0mm', '풍향 남동 4.8 m/s']\n",
            "['2024-09-30', '06:32:04', '강수량0mm', '풍향 남동 4.8 m/s']\n"
          ]
        }
      ]
    },
    {
      "cell_type": "markdown",
      "source": [
        "## 이희민 5-11 응용"
      ],
      "metadata": {
        "id": "Hu_mAEPZJ1PW"
      }
    },
    {
      "cell_type": "code",
      "source": [
        "import csv\n",
        "import time\n",
        "import datetime\n",
        "import bs4\n",
        "import urllib.request\n",
        "\n",
        "csvName = 'lhm_sokcho_weather2.csv'\n",
        "nateUrl = \"https://news.nate.com/weather?areaCode=11D20401\"\n",
        "\n",
        "count = 5\n",
        "\n",
        "while count > 0:\n",
        "    count -= 1\n",
        "\n",
        "    # 웹 페이지 요청 및 HTML 데이터를 읽어오기\n",
        "    htmlObject = urllib.request.urlopen(nateUrl)\n",
        "    webPage = htmlObject.read()\n",
        "    # BeautifulSoup을 사용하여 HTML 파싱\n",
        "    bsObject = bs4.BeautifulSoup(webPage, 'html.parser')\n",
        "\n",
        "    # 날씨 정보를 포함한 <div> 태그 찾기\n",
        "    tag = bsObject.find('div', {'class': 'right_today'})\n",
        "    rain = tag.find('p', {'class': 'rainfall'}).text\n",
        "    wind = tag.find('p', {'class': 'wind'}).text\n",
        "\n",
        "    # 현재 날짜와 시간 가져오기\n",
        "    now = datetime.datetime.now()\n",
        "    yymmdd = now.strftime('%Y-%m-%d')  # '년-월-일' 형식\n",
        "    hhmmss = now.strftime('%H:%M:%S')  # '시:분:초' 형식\n",
        "\n",
        "    # 날짜, 시간, 온도, 습도를 리스트로 저장\n",
        "    weather_list = [yymmdd, hhmmss, rain, wind]\n",
        "\n",
        "    f= open(csvName, 'a', newline='', encoding='utf-8-sig')\n",
        "    csvWriter = csv.writer(f)\n",
        "    csvWriter.writerow(weather_list)\n",
        "    time.sleep(8)"
      ],
      "metadata": {
        "id": "INl8_l3GJ8Qv"
      },
      "execution_count": null,
      "outputs": []
    },
    {
      "cell_type": "markdown",
      "source": [
        "## 이희민 5-12 응용"
      ],
      "metadata": {
        "id": "3KUc77W0KRGy"
      }
    },
    {
      "cell_type": "code",
      "source": [
        "import bs4\n",
        "import urllib.request\n",
        "\n",
        "def lhm_getBookInfo(book_tag) :\n",
        "  names=book_tag.find(\"div\", {\"class\":\"goods_name\"})\n",
        "  bookName=names.find(\"a\").text\n",
        "  bookPrice=book_tag.find(\"em\",{\"class\":\"yes_b\"}).text\n",
        "  return [bookName, bookPrice]\n",
        "\n",
        "bookUrl = \"https://www.yes24.com/24/Category/Display/001001046001?ParamSortTp=05&PageNumber=1\"\n",
        "\n",
        "htmlObject = urllib.request.urlopen(bookUrl)\n",
        "webPage=htmlObject.read()\n",
        "bsObject= bs4.BeautifulSoup(webPage,'html.parser')\n",
        "tag=bsObject.find('ul', {'class':'clearfix'})\n",
        "all_books=tag.findAll('div',{'class':'goods_info'})\n",
        "\n",
        "for book in all_books:\n",
        "  print(lhm_getBookInfo(book))"
      ],
      "metadata": {
        "colab": {
          "base_uri": "https://localhost:8080/"
        },
        "id": "CJKeJrg3KX3h",
        "outputId": "e74f26e0-8c42-4c92-e6df-db6d22efc8f8"
      },
      "execution_count": null,
      "outputs": [
        {
          "output_type": "stream",
          "name": "stdout",
          "text": [
            "['언젠가 우리가 같은 별을 바라본다면', '10,800']\n",
            "['모순', '11,700']\n",
            "['영원한 천국 ', '17,820']\n",
            "['이중 하나는 거짓말', '14,400']\n",
            "['구의 증명', '10,800']\n",
            "['불편한 편의점', '12,600']\n",
            "['황금종이 1', '16,650']\n",
            "['황금종이 2', '16,650']\n",
            "['작별하지 않는다', '15,120']\n",
            "['나의 돈키호테', '16,200']\n",
            "['불편한 편의점 2', '12,600']\n",
            "['아주 희미한 빛으로도', '15,120']\n",
            "['홍학의 자리', '12,600']\n",
            "['파견자들', '17,100']\n",
            "['빛이 이끄는 곳으로', '16,920']\n",
            "['메리골드 마음 세탁소', '13,500']\n",
            "['아버지의 해방일지', '13,500']\n",
            "['시한부', '15,120']\n",
            "['회색 인간', '11,700']\n",
            "['소년이 온다', '13,500']\n"
          ]
        }
      ]
    },
    {
      "cell_type": "markdown",
      "source": [
        "## 이희민 5-13 응용"
      ],
      "metadata": {
        "id": "yO6c9tVOLdLW"
      }
    },
    {
      "cell_type": "code",
      "source": [
        "import bs4  # BeautifulSoup 모듈\n",
        "import urllib.request  # URL 요청 모듈\n",
        "import csv  # CSV 파일에 데이터를 저장하기 위한 모듈\n",
        "\n",
        "def lhm_getBookInfo(book_tag) :\n",
        "  names=book_tag.find(\"div\", {\"class\":\"goods_name\"})\n",
        "  bookName=names.find(\"a\").text\n",
        "  bookPrice=book_tag.find(\"em\",{\"class\":\"yes_b\"}).text\n",
        "  return [bookName, bookPrice]\n",
        "\n",
        "#전역변수 부분\n",
        "csvName='lhm_book2.csv'\n",
        "bookUrl = \"https://www.yes24.com/24/Category/Display/001001046001?ParamSortTp=05&PageNumber=1\"\n",
        "\n",
        "htmlObject = urllib.request.urlopen(bookUrl)\n",
        "webPage=htmlObject.read()\n",
        "bsObject= bs4.BeautifulSoup(webPage,'html.parser')\n",
        "tag=bsObject.find('ul', {'class':'clearfix'})\n",
        "all_books=tag.findAll('div',{'class':'goods_info'})\n",
        "\n",
        "f =open(csvName, 'a', newline='', encoding='utf-8-sig')\n",
        "csvWriter = csv.writer(f)\n",
        "for book in all_books:\n",
        "  csvWriter.writerow(lhm_getBookInfo(book))"
      ],
      "metadata": {
        "id": "nCXHYVOCLfZN"
      },
      "execution_count": null,
      "outputs": []
    },
    {
      "cell_type": "markdown",
      "source": [
        "## 이희민 5-14 응용"
      ],
      "metadata": {
        "id": "OY5PPQL6L0TC"
      }
    },
    {
      "cell_type": "code",
      "source": [
        "import bs4\n",
        "import urllib.request\n",
        "\n",
        "#함수 선언 부분\n",
        "def lhm_getMovieInfo(movie_tag):\n",
        "  mName = movie_tag.find('div',{'class':'box-contents'})\n",
        "  movieName=mName.find('a').text\n",
        "  movieDate_Pre=mName.find('span',{'class':'txt-info'})\n",
        "  movieDate = movieDate_Pre.find('strong').text\n",
        "  return [movieName,movieDate]\n",
        "\n",
        "#전역변수 부분\n",
        "movieUrl = \"http://www.cgv.co.kr/movies/?lt=1&ft=0\"\n",
        "\n",
        "htmlObject = urllib.request.urlopen(movieUrl)\n",
        "webPage=htmlObject.read()\n",
        "bsObject=bs4.BeautifulSoup(webPage, 'html.parser')\n",
        "tag=bsObject.find('div',{'class':'sect-movie-chart'})\n",
        "all_movies=tag.findAll('li')\n",
        "for movie in all_movies:\n",
        "  print(lhm_getMovieInfo(movie))"
      ],
      "metadata": {
        "colab": {
          "base_uri": "https://localhost:8080/"
        },
        "id": "Qr7-M3VOL1iJ",
        "outputId": "76b96a8e-73e3-4a02-948f-35ac6ea76412"
      },
      "execution_count": null,
      "outputs": [
        {
          "output_type": "stream",
          "name": "stdout",
          "text": [
            "['\\n조커-폴리 아 되\\n', '\\r\\n                                2024.10.01 \\r\\n                                개봉\\nD-1\\n']\n",
            "['\\n대도시의 사랑법\\n', '\\r\\n                                2024.10.01 \\r\\n                                개봉\\nD-1\\n']\n",
            "['\\n베테랑2\\n', '\\r\\n                                2024.09.13 \\r\\n                                개봉\\n']\n",
            "['\\n6시간 후 너는 죽는다\\n', '\\r\\n                                2024.10.16 \\r\\n                                개봉\\nD-16\\n']\n",
            "['\\n임영웅ㅣ아임 히어로 더 스타디움\\n', '\\r\\n                                2024.08.28 \\r\\n                                개봉\\n']\n",
            "['\\n와일드 로봇\\n', '\\r\\n                                2024.10.01 \\r\\n                                개봉\\nD-1\\n']\n",
            "['\\n트랜스포머 ONE\\n', '\\r\\n                                2024.09.25 \\r\\n                                개봉\\n']\n",
            "['\\n브레드이발소-빵스타의 탄생\\n', '\\r\\n                                2024.09.14 \\r\\n                                개봉\\n']\n",
            "['\\n타인의 삶\\n', '\\r\\n                                2024.10.02 \\r\\n                                개봉\\nD-2\\n']\n",
            "['\\n명탐정 코난-시한장치의 마천루\\n', '\\r\\n                                2024.10.02 \\r\\n                                개봉\\nD-2\\n']\n",
            "['\\n비긴 어게인\\n', '\\r\\n                                2024.09.18 \\r\\n                                재개봉\\n']\n",
            "['\\n더 커버넌트\\n', '\\r\\n                                2024.09.27 \\r\\n                                개봉\\n']\n",
            "['\\n정국: 아이 엠 스틸\\n', '\\r\\n                                2024.09.18 \\r\\n                                개봉\\n']\n",
            "['\\n러브 라이브! 더 스쿨 아이돌 무비\\n', '\\r\\n                                2024.10.02 \\r\\n                                개봉\\nD-2\\n']\n",
            "['\\n극장총집편 봇치 더 록! 후편\\n', '\\r\\n                                2024.09.25 \\r\\n                                개봉\\n']\n",
            "['\\n재즈처럼 더 무비\\n', '\\r\\n                                2024.10.02 \\r\\n                                개봉\\nD-2\\n']\n",
            "['\\n극장판 블루 록 -에피소드 나기-\\n', '\\r\\n                                2024.08.21 \\r\\n                                개봉\\n']\n",
            "['\\n사랑의 하츄핑\\n', '\\r\\n                                2024.08.07 \\r\\n                                개봉\\n']\n",
            "['\\n태용: 티와이 트랙 인 시네마\\n', '\\r\\n                                2024.09.25 \\r\\n                                개봉\\n']\n"
          ]
        }
      ]
    },
    {
      "cell_type": "markdown",
      "source": [
        "## 이희민 5-15 응용"
      ],
      "metadata": {
        "id": "hGRs8GSwOqQX"
      }
    },
    {
      "cell_type": "code",
      "source": [
        "import bs4\n",
        "import urllib.request\n",
        "import csv\n",
        "\n",
        "#함수 선언 부분\n",
        "def lhm_getMovieInfo(movie_tag):\n",
        "  mName = movie_tag.find('div',{'class':'box-contents'})\n",
        "  movieName=mName.find('a').text\n",
        "  movieDate_Pre=mName.find('span',{'class':'txt-info'})\n",
        "  movieDate = movieDate_Pre.find('strong').text\n",
        "  return [movieName,movieDate]\n",
        "\n",
        "#전역변수 부분\n",
        "csvName = 'lhm_movie2.csv'\n",
        "movieUrl = \"http://www.cgv.co.kr/movies/?lt=1&ft=0\"\n",
        "\n",
        "htmlObject = urllib.request.urlopen(movieUrl)\n",
        "webPage=htmlObject.read()\n",
        "bsObject=bs4.BeautifulSoup(webPage, 'html.parser')\n",
        "tag=bsObject.find('div',{'class':'sect-movie-chart'})\n",
        "all_movies=tag.findAll('li')\n",
        "\n",
        "f= open(csvName, 'a', newline='', encoding='utf-8-sig')\n",
        "csvWriter = csv.writer(f)\n",
        "for movie in all_movies :\n",
        "  csvWriter.writerow(lhm_getMovieInfo(movie))"
      ],
      "metadata": {
        "id": "J1ckE4whOOF5"
      },
      "execution_count": null,
      "outputs": []
    },
    {
      "cell_type": "markdown",
      "source": [
        "## 이희민 5-16 응용"
      ],
      "metadata": {
        "id": "oOmhHmw4PBfB"
      }
    },
    {
      "cell_type": "code",
      "source": [
        "import time\n",
        "import datetime\n",
        "import urllib.request\n",
        "import urllib.parse\n",
        "from bs4 import BeautifulSoup as bs\n",
        "\n",
        "# URL 인코딩\n",
        "musicUrl1 = \"https://search.naver.com/search.naver?query=VIBE 차트\"\n",
        "encoded_url = urllib.parse.quote(musicUrl1, safe=':/?=&')\n",
        "\n",
        "count = 5\n",
        "while count > 0:\n",
        "    count -= 1\n",
        "\n",
        "    # URL 요청\n",
        "    htmlObject = urllib.request.urlopen(encoded_url)\n",
        "    webPage = htmlObject.read()\n",
        "\n",
        "    # BeautifulSoup으로 페이지 파싱\n",
        "    bsObject = bs(webPage, 'html.parser')\n",
        "\n",
        "    # 'detail_area' 클래스의 div 요소 찾기\n",
        "    tag_text = bsObject.find('div', {'class': 'detail_area'})\n",
        "\n",
        "    # tag_text가 None인 경우 반복 종료\n",
        "    if tag_text is None:\n",
        "        print(\"Could not find the 'detail_area' div.\")\n",
        "        break\n",
        "\n",
        "    # 'title' 클래스의 a 태그 찾기 (노래 제목)\n",
        "    song_title = tag_text.find('a', {'class': 'title'}).find('span', {'class': 'txt'}).text\n",
        "\n",
        "    # 'name' 클래스의 a 태그 찾기 (아티스트 이름)\n",
        "    artist_name = tag_text.find('span', {'class': 'name'}).find('a').text\n",
        "\n",
        "    # 현재 날짜와 시간 가져오기\n",
        "    now = datetime.datetime.now()\n",
        "    yyyymmdd = now.strftime('%Y-%m-%d')\n",
        "    hhmmss = now.strftime('%H:%M:%S')\n",
        "\n",
        "    # 음악 리스트에 정보 저장\n",
        "    music_list = [yyyymmdd, hhmmss, song_title, artist_name]\n",
        "\n",
        "    # 출력\n",
        "    print(music_list)\n",
        "\n",
        "    # 7초 대기\n",
        "    time.sleep(7)\n"
      ],
      "metadata": {
        "colab": {
          "base_uri": "https://localhost:8080/"
        },
        "id": "lEMPkv3TPA8s",
        "outputId": "5ebfbc95-911f-446b-863b-64c29cf5c9e4"
      },
      "execution_count": null,
      "outputs": [
        {
          "output_type": "stream",
          "name": "stdout",
          "text": [
            "['2024-09-30', '06:55:40', 'HAPPY', 'DAY6(데이식스)']\n",
            "['2024-09-30', '06:55:49', 'HAPPY', 'DAY6(데이식스)']\n",
            "['2024-09-30', '06:55:57', 'HAPPY', 'DAY6(데이식스)']\n",
            "['2024-09-30', '06:56:06', 'HAPPY', 'DAY6(데이식스)']\n",
            "['2024-09-30', '06:56:15', 'HAPPY', 'DAY6(데이식스)']\n"
          ]
        }
      ]
    },
    {
      "cell_type": "markdown",
      "source": [],
      "metadata": {
        "id": "JhQPZUO5PAq7"
      }
    }
  ]
}