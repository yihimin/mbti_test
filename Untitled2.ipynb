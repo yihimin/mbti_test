{
  "nbformat": 4,
  "nbformat_minor": 0,
  "metadata": {
    "colab": {
      "provenance": [],
      "authorship_tag": "ABX9TyPO5REi4wkpcG3mlXArLSdI",
      "include_colab_link": true
    },
    "kernelspec": {
      "name": "python3",
      "display_name": "Python 3"
    },
    "language_info": {
      "name": "python"
    }
  },
  "cells": [
    {
      "cell_type": "markdown",
      "metadata": {
        "id": "view-in-github",
        "colab_type": "text"
      },
      "source": [
        "<a href=\"https://colab.research.google.com/github/yihimin/mbti_test/blob/main/Untitled2.ipynb\" target=\"_parent\"><img src=\"https://colab.research.google.com/assets/colab-badge.svg\" alt=\"Open In Colab\"/></a>"
      ]
    },
    {
      "cell_type": "code",
      "source": [
        "!sudo apt-get install -y fonts-nanum\n",
        "!sudo fc-cache -fv\n",
        "!rm ~/.cache/matplotlib -rf\n"
      ],
      "metadata": {
        "colab": {
          "base_uri": "https://localhost:8080/"
        },
        "id": "rIIpMzjumQtr",
        "outputId": "b651e7ba-28c3-42a7-adf7-4dd002e4fca1"
      },
      "execution_count": 1,
      "outputs": [
        {
          "output_type": "stream",
          "name": "stdout",
          "text": [
            "Reading package lists... Done\n",
            "Building dependency tree... Done\n",
            "Reading state information... Done\n",
            "fonts-nanum is already the newest version (20200506-1).\n",
            "0 upgraded, 0 newly installed, 0 to remove and 49 not upgraded.\n",
            "/usr/share/fonts: caching, new cache contents: 0 fonts, 1 dirs\n",
            "/usr/share/fonts/truetype: caching, new cache contents: 0 fonts, 3 dirs\n",
            "/usr/share/fonts/truetype/humor-sans: caching, new cache contents: 1 fonts, 0 dirs\n",
            "/usr/share/fonts/truetype/liberation: caching, new cache contents: 16 fonts, 0 dirs\n",
            "/usr/share/fonts/truetype/nanum: caching, new cache contents: 12 fonts, 0 dirs\n",
            "/usr/local/share/fonts: caching, new cache contents: 0 fonts, 0 dirs\n",
            "/root/.local/share/fonts: skipping, no such directory\n",
            "/root/.fonts: skipping, no such directory\n",
            "/usr/share/fonts/truetype: skipping, looped directory detected\n",
            "/usr/share/fonts/truetype/humor-sans: skipping, looped directory detected\n",
            "/usr/share/fonts/truetype/liberation: skipping, looped directory detected\n",
            "/usr/share/fonts/truetype/nanum: skipping, looped directory detected\n",
            "/var/cache/fontconfig: cleaning cache directory\n",
            "/root/.cache/fontconfig: not cleaning non-existent cache directory\n",
            "/root/.fontconfig: not cleaning non-existent cache directory\n",
            "fc-cache: succeeded\n"
          ]
        }
      ]
    },
    {
      "cell_type": "code",
      "source": [
        "import matplotlib.pyplot as plt\n",
        "import matplotlib.font_manager as fm\n",
        "\n",
        "# 한글 폰트 경로 확인 및 설정\n",
        "plt.rcParams[\"font.family\"] = \"NanumGothic\"  # 나눔고딕 폰트 설정\n",
        "plt.rcParams[\"axes.unicode_minus\"] = False  # 마이너스 기호 깨짐 방지\n",
        "\n",
        "# 한글 폰트가 적용되었는지 확인\n",
        "print([f.name for f in fm.fontManager.ttflist if 'Nanum' in f.name])\n"
      ],
      "metadata": {
        "colab": {
          "base_uri": "https://localhost:8080/"
        },
        "id": "pXU5naAetV0j",
        "outputId": "540f963c-970b-448b-cc07-bc6e2fe83300"
      },
      "execution_count": 24,
      "outputs": [
        {
          "output_type": "stream",
          "name": "stdout",
          "text": [
            "['NanumGothicCoding', 'NanumBarunGothic', 'NanumSquare', 'NanumGothicCoding', 'NanumMyeongjo', 'NanumSquare', 'NanumBarunGothic', 'NanumGothic', 'NanumSquareRound', 'NanumSquareRound', 'NanumGothic', 'NanumMyeongjo']\n"
          ]
        }
      ]
    },
    {
      "cell_type": "markdown",
      "source": [
        "# 1. 데이터 수집"
      ],
      "metadata": {
        "id": "_19eGt2wKBux"
      }
    },
    {
      "cell_type": "markdown",
      "source": [
        "1.1 소환사 정보 가져오기"
      ],
      "metadata": {
        "id": "Mk_b7diBJx1p"
      }
    },
    {
      "cell_type": "code",
      "execution_count": 2,
      "metadata": {
        "colab": {
          "base_uri": "https://localhost:8080/"
        },
        "id": "eizeWOKsB6JR",
        "outputId": "40b70eaa-9542-4ca2-a4d1-f2bd2d3a1baf"
      },
      "outputs": [
        {
          "output_type": "stream",
          "name": "stdout",
          "text": [
            "PUUID: PoG4YoqwlcVQWNazh27Gvx0F4Jr2wE39A_ztCuyOY0L6bDJ6X1kzRXrSE2gMCC2BsI0GHPND4kJpgg\n"
          ]
        }
      ],
      "source": [
        "import requests\n",
        "\n",
        "API_KEY = \"RGAPI-578aae15-c434-444d-9b44-651b4265409a\"\n",
        "region = \"asia\"\n",
        "game_name = \"SummonerName\"  # 소환사 이름\n",
        "tag_line = \"KR1\"  # 소환사의 태그라인 (예: KR1)\n",
        "\n",
        "# 소환사 정보 API URL\n",
        "url = f\"https://{region}.api.riotgames.com/riot/account/v1/accounts/by-riot-id/{game_name}/{tag_line}?api_key={API_KEY}\"\n",
        "\n",
        "# API 요청\n",
        "response = requests.get(url)\n",
        "if response.status_code == 200:\n",
        "    data = response.json()\n",
        "    print(\"PUUID:\", data[\"puuid\"])\n",
        "else:\n",
        "    print(\"Error:\", response.status_code, response.json())\n",
        "\n"
      ]
    },
    {
      "cell_type": "markdown",
      "source": [
        "1.2 매치 히스토리 가져오기"
      ],
      "metadata": {
        "id": "4H7z5MdKETE1"
      }
    },
    {
      "cell_type": "code",
      "source": [
        "puuid = \"PoG4YoqwlcVQWNazh27Gvx0F4Jr2wE39A_ztCuyOY0L6bDJ6X1kzRXrSE2gMCC2BsI0GHPND4kJpgg\"  # 위 코드로 얻은 PUUID\n",
        "url = f\"https://asia.api.riotgames.com/lol/match/v5/matches/by-puuid/{puuid}/ids?start=0&count=10&api_key={API_KEY}\"\n",
        "\n",
        "response = requests.get(url)\n",
        "if response.status_code == 200:\n",
        "    match_ids = response.json()\n",
        "    print(\"Match IDs:\", match_ids)\n",
        "else:\n",
        "    print(\"Error:\", response.status_code, response.json())\n"
      ],
      "metadata": {
        "colab": {
          "base_uri": "https://localhost:8080/"
        },
        "id": "SB597lmnETZ3",
        "outputId": "8ada3856-d27c-4733-a836-d57cb8066c0c"
      },
      "execution_count": 3,
      "outputs": [
        {
          "output_type": "stream",
          "name": "stdout",
          "text": [
            "Match IDs: ['KR_7381344933', 'KR_7381325195', 'KR_7381272549', 'KR_7381198564', 'KR_7381114715', 'KR_7381000163', 'KR_7380892805', 'KR_7380799726', 'KR_7380697566', 'KR_7380631650']\n"
          ]
        }
      ]
    },
    {
      "cell_type": "markdown",
      "source": [
        "1.3 매치 상세 데이터 가져오기"
      ],
      "metadata": {
        "id": "FJqMcDTaJ38_"
      }
    },
    {
      "cell_type": "code",
      "source": [
        "# 가져온 매치 ID 목록\n",
        "match_ids = ['KR_7381344933', 'KR_7381325195', 'KR_7381272549', 'KR_7381198564', 'KR_7381114715', 'KR_7381000163', 'KR_7380892805', 'KR_7380799726', 'KR_7380697566', 'KR_7380631650']\n",
        "\n",
        "# 각 매치 데이터를 저장할 리스트\n",
        "all_match_data = []\n",
        "\n",
        "for match_id in match_ids:\n",
        "    url = f\"https://asia.api.riotgames.com/lol/match/v5/matches/{match_id}?api_key={API_KEY}\"\n",
        "    response = requests.get(url)\n",
        "    if response.status_code == 200:\n",
        "        match_data = response.json()\n",
        "        all_match_data.append(match_data)\n",
        "        print(f\"Collected data for match {match_id}\")\n",
        "    else:\n",
        "        print(f\"Error fetching match {match_id}: {response.status_code}\")\n"
      ],
      "metadata": {
        "colab": {
          "base_uri": "https://localhost:8080/"
        },
        "id": "-q04mx3PEy1y",
        "outputId": "b1ac00f9-3798-4953-934e-27686a90c724"
      },
      "execution_count": 47,
      "outputs": [
        {
          "output_type": "stream",
          "name": "stdout",
          "text": [
            "Collected data for match KR_7381344933\n",
            "Collected data for match KR_7381325195\n",
            "Collected data for match KR_7381272549\n",
            "Collected data for match KR_7381198564\n",
            "Collected data for match KR_7381114715\n",
            "Collected data for match KR_7381000163\n",
            "Collected data for match KR_7380892805\n",
            "Collected data for match KR_7380799726\n",
            "Collected data for match KR_7380697566\n",
            "Collected data for match KR_7380631650\n"
          ]
        }
      ]
    },
    {
      "cell_type": "markdown",
      "source": [
        "1.4 데이터 정리"
      ],
      "metadata": {
        "id": "WQqYE-11J8Uj"
      }
    },
    {
      "cell_type": "code",
      "source": [
        "import pandas as pd\n",
        "\n",
        "# 데이터를 정리하여 데이터프레임으로 변환\n",
        "data = []\n",
        "for match in all_match_data:\n",
        "    for player in match['info']['participants']:\n",
        "        data.append({\n",
        "            \"Summoner\": player['summonerName'],\n",
        "            \"Win\": player['win'],\n",
        "            \"Items\": [player[f'item{i}'] for i in range(6)],\n",
        "            \"GameDuration\": match['info']['gameDuration']\n",
        "        })\n",
        "\n",
        "df = pd.DataFrame(data)"
      ],
      "metadata": {
        "id": "Eu8_nAVUE1ho"
      },
      "execution_count": 48,
      "outputs": []
    },
    {
      "cell_type": "markdown",
      "source": [
        "1.5 데이터 저장"
      ],
      "metadata": {
        "id": "7WKhICmdJ_Ee"
      }
    },
    {
      "cell_type": "code",
      "source": [
        "df.to_csv(\"lhm_match_data.csv\", index=False, encoding=\"utf-8-sig\")\n",
        "print(\"Data saved to match_data.csv\")\n"
      ],
      "metadata": {
        "colab": {
          "base_uri": "https://localhost:8080/"
        },
        "id": "4Mtw4FP0E4aW",
        "outputId": "a5883e8f-5d18-44c3-a59c-281638ec75e2"
      },
      "execution_count": 49,
      "outputs": [
        {
          "output_type": "stream",
          "name": "stdout",
          "text": [
            "Data saved to match_data.csv\n"
          ]
        }
      ]
    },
    {
      "cell_type": "markdown",
      "source": [
        "# 2. 데이터 정규화 및 PCA(주성분 분석)"
      ],
      "metadata": {
        "id": "757lam8rJoCY"
      }
    },
    {
      "cell_type": "markdown",
      "source": [
        "2.1 데이터 정규화"
      ],
      "metadata": {
        "id": "km0Ca8IyKKma"
      }
    },
    {
      "cell_type": "code",
      "source": [
        "from sklearn.preprocessing import MinMaxScaler\n",
        "\n",
        "# 아이템 빈도수 계산 및 정규화\n",
        "item_counts = df.explode(\"Items\")[\"Items\"].value_counts()\n",
        "item_counts_df = item_counts.reset_index()\n",
        "item_counts_df.columns = [\"Item\", \"Count\"]\n",
        "\n",
        "# Min-Max 정규화 수행\n",
        "scaler = MinMaxScaler()\n",
        "item_counts_df[\"NormalizedCount\"] = scaler.fit_transform(item_counts_df[[\"Count\"]])\n",
        "print(item_counts_df.head())"
      ],
      "metadata": {
        "colab": {
          "base_uri": "https://localhost:8080/"
        },
        "id": "DpkaaAKuFieE",
        "outputId": "b0384c3f-351e-4c92-c96e-fef296481eed"
      },
      "execution_count": 50,
      "outputs": [
        {
          "output_type": "stream",
          "name": "stdout",
          "text": [
            "   Item  Count  NormalizedCount\n",
            "0     0     71         1.000000\n",
            "1  2055     28         0.385714\n",
            "2  3047     19         0.257143\n",
            "3  1055     19         0.257143\n",
            "4  3158     17         0.228571\n"
          ]
        }
      ]
    },
    {
      "cell_type": "markdown",
      "source": [
        "2.2 PCA 수행"
      ],
      "metadata": {
        "id": "MBe-TVi7KNqG"
      }
    },
    {
      "cell_type": "code",
      "source": [
        "from sklearn.decomposition import PCA\n",
        "\n",
        "# PCA를 위해 아이템 빈도수 데이터 준비\n",
        "pca = PCA(n_components=1)  # 주요 성분 1개 추출\n",
        "pca_result = pca.fit_transform(item_counts_df[[\"NormalizedCount\"]])\n",
        "\n",
        "item_counts_df[\"PCA1\"] = pca_result[:, 0] # PCA 결과 추가\n",
        "\n",
        "print(item_counts_df.head())"
      ],
      "metadata": {
        "colab": {
          "base_uri": "https://localhost:8080/"
        },
        "id": "Tu48xKX7FE3f",
        "outputId": "d770d21b-6c71-4648-b020-9d43e183120d"
      },
      "execution_count": 51,
      "outputs": [
        {
          "output_type": "stream",
          "name": "stdout",
          "text": [
            "   Item  Count  NormalizedCount      PCA1\n",
            "0     0     71         1.000000  0.951721\n",
            "1  2055     28         0.385714  0.337435\n",
            "2  3047     19         0.257143  0.208863\n",
            "3  1055     19         0.257143  0.208863\n",
            "4  3158     17         0.228571  0.180292\n"
          ]
        }
      ]
    },
    {
      "cell_type": "markdown",
      "source": [
        "2.3 설명력 확인"
      ],
      "metadata": {
        "id": "TcYmbf6eiQLB"
      }
    },
    {
      "cell_type": "code",
      "source": [
        "# 설명력 확인\n",
        "explained_variance_ratio = pca.explained_variance_ratio_\n",
        "print(\"PCA 설명력:\", explained_variance_ratio)"
      ],
      "metadata": {
        "colab": {
          "base_uri": "https://localhost:8080/"
        },
        "id": "drZSzLzccpUt",
        "outputId": "e92de3d9-e89e-47f0-c201-0c2d931a2104"
      },
      "execution_count": 52,
      "outputs": [
        {
          "output_type": "stream",
          "name": "stdout",
          "text": [
            "PCA 설명력: [1.]\n"
          ]
        }
      ]
    },
    {
      "cell_type": "markdown",
      "source": [
        "# 3. 데이터 분석 및 시각"
      ],
      "metadata": {
        "id": "miUAVDORKQAU"
      }
    },
    {
      "cell_type": "markdown",
      "source": [
        "3.1 승률 상위 10개 아이템 출력"
      ],
      "metadata": {
        "id": "mK5eiIrevxJ4"
      }
    },
    {
      "cell_type": "code",
      "source": [
        "import pandas as pd\n",
        "\n",
        "# 데이터 로드\n",
        "df = pd.read_csv(\"lhm_match_data.csv\")\n",
        "\n",
        "# 아이템별 승률 계산\n",
        "item_win_data = {}\n",
        "\n",
        "for _, row in df.iterrows():\n",
        "    win = row[\"Win\"]  # 승리 여부\n",
        "    items = eval(row[\"Items\"])  # 아이템 리스트 (문자열 -> 리스트로 변환)\n",
        "\n",
        "    for item in items:\n",
        "        if item not in item_win_data:\n",
        "            item_win_data[item] = {\"win\": 0, \"total\": 0}\n",
        "        item_win_data[item][\"total\"] += 1\n",
        "        if win:  # 승리한 경우\n",
        "            item_win_data[item][\"win\"] += 1\n",
        "\n",
        "# 승률 데이터프레임 생성\n",
        "item_win_rate_df = pd.DataFrame([\n",
        "    {\"Item\": item, \"WinRate\": (data[\"win\"] / data[\"total\"]) * 100}\n",
        "    for item, data in item_win_data.items()\n",
        "])\n",
        "\n",
        "# 승률 상위 10개 아이템 출력\n",
        "print(item_win_rate_df.sort_values(\"WinRate\", ascending=False).head(10))\n"
      ],
      "metadata": {
        "colab": {
          "base_uri": "https://localhost:8080/"
        },
        "id": "nGCvvpKovmWX",
        "outputId": "275ca9a7-9590-4c29-b0bd-561c05bc92f9"
      },
      "execution_count": 53,
      "outputs": [
        {
          "output_type": "stream",
          "name": "stdout",
          "text": [
            "     Item  WinRate\n",
            "136  3147    100.0\n",
            "107  4401    100.0\n",
            "84   2420    100.0\n",
            "91   3124    100.0\n",
            "69   4638    100.0\n",
            "24   1026    100.0\n",
            "66   1038    100.0\n",
            "94   3181    100.0\n",
            "95   6694    100.0\n",
            "41   3802    100.0\n"
          ]
        }
      ]
    },
    {
      "cell_type": "markdown",
      "source": [
        "3.2 PCA와 승률 간의 선형 회귀 분석"
      ],
      "metadata": {
        "id": "SvG8QUsVKU-8"
      }
    },
    {
      "cell_type": "code",
      "source": [
        "from sklearn.linear_model import LinearRegression\n",
        "\n",
        "# PCA와 승률 데이터 병합\n",
        "item_win_rate_df = pd.DataFrame({\n",
        "    \"Item\": item_counts_df[\"Item\"],\n",
        "    \"WinRate\": item_counts_df[\"Item\"]\n",
        "})\n",
        "\n",
        "# PCA 데이터와 병합\n",
        "merged_data = pd.merge(item_counts_df, item_win_rate_df, on=\"Item\")\n",
        "\n",
        "# 선형 회귀 분석\n",
        "X = merged_data[[\"PCA1\"]]\n",
        "y = merged_data[\"WinRate\"]\n",
        "\n",
        "model = LinearRegression()\n",
        "model.fit(X, y)\n",
        "\n",
        "# 회귀 분석 결과 출력\n",
        "print(\"기울기:\", model.coef_[0]) # PCA1의 승률에 대한 영향\n",
        "print(\"절편:\", model.intercept_) # 기본 승률"
      ],
      "metadata": {
        "colab": {
          "base_uri": "https://localhost:8080/"
        },
        "id": "172vOcKwFUNZ",
        "outputId": "361fd94d-ef2b-4c0e-a381-46a8e0031581"
      },
      "execution_count": 44,
      "outputs": [
        {
          "output_type": "stream",
          "name": "stdout",
          "text": [
            "기울기: -3469.594167658412\n",
            "절편: 3339.204379562044\n"
          ]
        }
      ]
    },
    {
      "cell_type": "markdown",
      "source": [
        "3.3 PCA1과 승률 간의 회귀 분석 시각화"
      ],
      "metadata": {
        "id": "2A6TIpj3KWxD"
      }
    },
    {
      "cell_type": "code",
      "source": [
        "import matplotlib.pyplot as plt\n",
        "\n",
        "plt.scatter(item_counts_df[\"PCA1\"], y, color='blue', label='Actual WinRate')\n",
        "plt.plot(item_counts_df[\"PCA1\"], model.predict(X), color='red', label='Regression Line')\n",
        "plt.title(\"PCA 기반 선형 회귀 분석\")\n",
        "plt.xlabel(\"PCA1\")\n",
        "plt.ylabel(\"WinRate (%)\")\n",
        "plt.legend()\n",
        "plt.show()\n"
      ],
      "metadata": {
        "colab": {
          "base_uri": "https://localhost:8080/",
          "height": 469
        },
        "id": "z0WLRAyZG94N",
        "outputId": "c72fc58e-1957-437d-82ee-ba33e87dbff5"
      },
      "execution_count": 45,
      "outputs": [
        {
          "output_type": "display_data",
          "data": {
            "text/plain": [
              "<Figure size 640x480 with 1 Axes>"
            ],
            "image/png": "[encoded data removed]"
          },
          "metadata": {}
        }
      ]
    },
    {
      "cell_type": "markdown",
      "source": [
        "3.4 PCA1 값을 기반으로 한 전체 아이템 분석"
      ],
      "metadata": {
        "id": "JaX-q563dDt1"
      }
    },
    {
      "cell_type": "code",
      "source": [
        "# 모든 아이템의 PCA1 값 시각화\n",
        "plt.figure(figsize=(12, 8))\n",
        "plt.bar(item_counts_df[\"Item\"], item_counts_df[\"PCA1\"], color='blue', alpha=0.7)\n",
        "plt.title(\"PCA1 값을 기반으로 한 전체 아이템 분석\")\n",
        "plt.xlabel(\"Item ID\")\n",
        "plt.ylabel(\"PCA1 Value\")\n",
        "plt.xticks(rotation=45)  # 아이템 ID가 잘 보이도록 회전\n",
        "plt.show()"
      ],
      "metadata": {
        "colab": {
          "base_uri": "https://localhost:8080/",
          "height": 509
        },
        "id": "AD7oKGUKdES8",
        "outputId": "fa5510ef-baba-4a52-92fc-22156a35d849"
      },
      "execution_count": 46,
      "outputs": [
        {
          "output_type": "display_data",
          "data": {
            "text/plain": [
              "<Figure size 1200x800 with 1 Axes>"
            ],
            "image/png": "[encoded data removed]"
          },
          "metadata": {}
        }
      ]
    },
    {
      "cell_type": "markdown",
      "source": [
        "3.5 PCA1과 승률 간의 관계 시각화"
      ],
      "metadata": {
        "id": "-IecDqMDc-EO"
      }
    },
    {
      "cell_type": "code",
      "source": [
        "# PCA1과 승률 간의 관계 산점도\n",
        "plt.figure(figsize=(10, 6))\n",
        "plt.scatter(merged_data[\"PCA1\"], merged_data[\"WinRate\"], color='green', alpha=0.5, label=\"WinRate\")\n",
        "plt.title(\"PCA1과 아이템 승률의 관계\")\n",
        "plt.xlabel(\"PCA1\")\n",
        "plt.ylabel(\"WinRate (%)\")\n",
        "plt.legend()\n",
        "plt.show()"
      ],
      "metadata": {
        "colab": {
          "base_uri": "https://localhost:8080/",
          "height": 452
        },
        "id": "A_63CJ2_c-TS",
        "outputId": "7c7d7f72-41c6-41b2-d527-82e1bac73d67"
      },
      "execution_count": 42,
      "outputs": [
        {
          "output_type": "display_data",
          "data": {
            "text/plain": [
              "<Figure size 1000x600 with 1 Axes>"
            ],
            "image/png": "[encoded data removed]"
          },
          "metadata": {}
        }
      ]
    }
  ]
}